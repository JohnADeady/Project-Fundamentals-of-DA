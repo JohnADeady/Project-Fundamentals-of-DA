{
 "cells": [
  {
   "cell_type": "markdown",
   "metadata": {
    "collapsed": true
   },
   "source": [
    "<img src=\"https://upload.wikimedia.org/wikipedia/en/5/56/Matplotlib_logo.svg\" height=\"200\" width=\"600\">"
   ]
  },
  {
   "cell_type": "markdown",
   "metadata": {},
   "source": [
    "# Boxplots"
   ]
  },
  {
   "cell_type": "markdown",
   "metadata": {},
   "source": [
    "The main purpose of this jupyter notebook is to investigate and explain box plots and their uses. The boxplot function from the Python package matplotlib.pyplot can be used to create box plots. In this notebook, we will:\n",
    "\n",
    "1. Summarise the history of the box plot and situations in which it used.\n",
    "2. Demonstrate the use of the box plot using data of your choosing.\n",
    "3. Explain any relevant terminology such as the terms quartile and percentile.\n",
    "4. Compare the box plot to alternatives."
   ]
  },
  {
   "cell_type": "markdown",
   "metadata": {},
   "source": [
    "## History of Boxplots"
   ]
  },
  {
   "cell_type": "markdown",
   "metadata": {},
   "source": [
    "The boxplot also know as the box and whisker plot was created in 1970 by John W Tukey. John W Tukey was an American mathematician. Mr. Tukey developed important theories about how to analyze data and compute series of numbers quickly. He spent decades as both a professor at Princeton University and a researcher at AT&T's Bell Laboratories, and his ideas continue to be a part of both doctoral statistics courses and high school math classes [[Tukey]](https://www.nytimes.com/2000/07/28/us/john-tukey-85-statistician-coined-the-word-software.html?pagewanted=print)"
   ]
  },
  {
   "cell_type": "markdown",
   "metadata": {},
   "source": [
    "<img src=\"https://upload.wikimedia.org/wikipedia/en/e/e9/John_Tukey.jpg\">"
   ]
  },
  {
   "cell_type": "markdown",
   "metadata": {},
   "source": [
    "The box and whisker plot is useful when displaying skewed data and whether there are any outliners in the dataset. The box and whisker plot is based on five numbers summary. These five numbers are minimum, first quartile (Q1), median, third quartile (Q3), and maximum.\n",
    "\n",
    "A box and whiker plot is a graph that gives you a good indication of how the values in the data are spread out. Although box lots may seem primitive in comparison to a histogram or density plot, they have the advantage of taking up less space, which is useful when comparing distributions between many groups or datasets.[[Data]](https://towardsdatascience.com/understanding-boxplots-5e2df7bcbd51)\n",
    "\n",
    "In a box and whisker plot:\n",
    "\n",
    " 1. The ends of the box are the upper and lower quartiles, so the box spans the interquartile range\n",
    " 2. The median is marked by a vertical line inside the box\n",
    " 3. The whiskers are the two lines outside the box that extend to the highest and lowest observations. [[Stat]](https://www150.statcan.gc.ca/n1/edu/power-pouvoir/ch12/5214889-eng.htm)"
   ]
  },
  {
   "cell_type": "markdown",
   "metadata": {},
   "source": [
    "## Advantages and Disadvantages of Boxplot"
   ]
  },
  {
   "cell_type": "markdown",
   "metadata": {},
   "source": [
    "#### Advantages"
   ]
  },
  {
   "cell_type": "markdown",
   "metadata": {},
   "source": [
    "1 Box and whisker plots handle large data effortlessly. These graphs allow a clear summary of large amounts of data.\n",
    "\n",
    "\n",
    "2 Due to the five-number data summary, a box plot can handle and present a summary of a large amount of data. Organizing data in a box plot by using five key concepts is an efficient way of dealing with large data too unmanageable for other graphs, such as line plots or stem and leaf plots.\n",
    "\n",
    "\n",
    "3 A box plot shows only a simple summary of the distribution of results, so that it you can quickly view it and compare it with other data. \n",
    "\n",
    "\n",
    "4 A box plot is a highly visually effective way of viewing a clear summary of one or more sets of data\n",
    "\n",
    "5 A box plot is one of very few statistical graph methods that show outliers.There might be one outlier or multiple outliers within a set of data, which occurs both below and above the minimum and maximum data values. By extending the lesser and greater data values to a max of 1.5 times the inter-quartile range, the box plot delivers outliers or obscure results. Any results of data that fall outside of the minimum and maximum values known as outliers are easy to determine on a box plot graph. [[Science]](https://sciencing.com/advantages-disadvantages-box-plot-12025269.html)"
   ]
  },
  {
   "cell_type": "markdown",
   "metadata": {},
   "source": [
    "#### Disadvantages"
   ]
  },
  {
   "cell_type": "markdown",
   "metadata": {},
   "source": [
    "1 Original data is not clearly defined in the box plot and mean and mode cannot be identified in a box plot. \n",
    "\n",
    "\n",
    "2  Boxplots can only be used with numerical data "
   ]
  },
  {
   "cell_type": "markdown",
   "metadata": {},
   "source": [
    "## Use of boxplot"
   ]
  },
  {
   "cell_type": "markdown",
   "metadata": {
    "collapsed": true
   },
   "source": [
    "We will begin by plotting a basic box and whisker plot of the Iris dataset using seaborn. From our previous module, we investigted this dataset created by Ronald Fisher in 1936.\n",
    "\n",
    "In our first plot, we can see one varaible of the species showing the outliners. Our second plot, shows the sepal lenght of each of the three species with the count of each of the species and our final basic plot shows the all lines and all varaibles of all the three species. "
   ]
  },
  {
   "cell_type": "markdown",
   "metadata": {},
   "source": [
    "#### Basic"
   ]
  },
  {
   "cell_type": "code",
   "execution_count": 49,
   "metadata": {},
   "outputs": [
    {
     "data": {
      "text/plain": [
       "<matplotlib.axes._subplots.AxesSubplot at 0x1c32e7e3e10>"
      ]
     },
     "execution_count": 49,
     "metadata": {},
     "output_type": "execute_result"
    },
    {
     "data": {
      "image/png": "[encoded data removed]",
      "text/plain": [
       "<matplotlib.figure.Figure at 0x1c32e9b7e80>"
      ]
     },
     "metadata": {},
     "output_type": "display_data"
    }
   ],
   "source": [
    "# Adopted from https://python-graph-gallery.com/30-basic-boxplot-with-seaborn/\n",
    "# Analysis the Iris Dataset - sepal width\n",
    "%matplotlib inline\n",
    "import seaborn as sns         # Import seaborn library\n",
    "df = sns.load_dataset('iris') # Import iris dataset\n",
    " \n",
    "# Make boxplot for sepal width with outliners\n",
    "sns.boxplot( y=df[\"sepal_width\"] )\n",
    "#sns.plt.show()\n"
   ]
  },
  {
   "cell_type": "code",
   "execution_count": 50,
   "metadata": {},
   "outputs": [
    {
     "data": {
      "image/png": "[encoded data removed]",
      "text/plain": [
       "<matplotlib.figure.Figure at 0x1c32eaa42e8>"
      ]
     },
     "metadata": {},
     "output_type": "display_data"
    }
   ],
   "source": [
    "# Analysis the Iris Dataset - sepal length of spcies with how many were counted in dataset\n",
    "ax = sns.boxplot(x=\"species\", y=\"sepal_length\", data=df)\n",
    " \n",
    "# Calculate number of obs per group & median to position labels\n",
    "medians = df.groupby(['species'])['sepal_length'].median().values\n",
    "nobs = df['species'].value_counts().values\n",
    "nobs = [str(x) for x in nobs.tolist()]\n",
    "nobs = [\"n: \" + i for i in nobs]\n",
    " \n",
    "# Add it to the plot\n",
    "pos = range(len(nobs))\n",
    "for tick,label in zip(pos,ax.get_xticklabels()):\n",
    "  ax.text(pos[tick], medians[tick] + 0.05, nobs[tick], horizontalalignment='center', size='x-large', color='r', weight='bold') \n",
    "# sns.plt.show()"
   ]
  },
  {
   "cell_type": "code",
   "execution_count": 51,
   "metadata": {},
   "outputs": [
    {
     "data": {
      "text/plain": [
       "<matplotlib.axes._subplots.AxesSubplot at 0x1c32eab3048>"
      ]
     },
     "execution_count": 51,
     "metadata": {},
     "output_type": "execute_result"
    },
    {
     "data": {
      "image/png": "[encoded data removed]",
      "text/plain": [
       "<matplotlib.figure.Figure at 0x1c32e9d3b00>"
      ]
     },
     "metadata": {},
     "output_type": "display_data"
    }
   ],
   "source": [
    "# Analysis the Iris Dataset - of all lines of all variables of all species\n",
    "d = {\"sepal_length\": \"g\", \"sepal_width\": \"b\", \"petal_length\":\"m\", \"petal_width\": \"y\"}\n",
    "sns.boxplot(data=df.iloc[:,0:4], palette=d)\n",
    "#sns.plt.show()\n"
   ]
  },
  {
   "cell_type": "code",
   "execution_count": null,
   "metadata": {
    "collapsed": true
   },
   "outputs": [],
   "source": []
  },
  {
   "cell_type": "markdown",
   "metadata": {},
   "source": [
    "## References"
   ]
  },
  {
   "cell_type": "markdown",
   "metadata": {},
   "source": [
    "[1] https://towardsdatascience.com/understanding-boxplots-5e2df7bcbd51"
   ]
  },
  {
   "cell_type": "markdown",
   "metadata": {},
   "source": [
    "[2] http://vita.had.co.nz/papers/boxplots.pdf"
   ]
  },
  {
   "cell_type": "markdown",
   "metadata": {
    "collapsed": true
   },
   "source": [
    "[3] https://www.nytimes.com/2000/07/28/us/john-tukey-85-statistician-coined-the-word-software.html?pagewanted=print"
   ]
  },
  {
   "cell_type": "markdown",
   "metadata": {},
   "source": [
    "[4] https://www150.statcan.gc.ca/n1/edu/power-pouvoir/ch12/5214889-eng.htm"
   ]
  },
  {
   "cell_type": "markdown",
   "metadata": {},
   "source": [
    "[5] https://sciencing.com/advantages-disadvantages-box-plot-12025269.html"
   ]
  },
  {
   "cell_type": "markdown",
   "metadata": {},
   "source": [
    "[6] https://python-graph-gallery.com/30-basic-boxplot-with-seaborn/"
   ]
  }
 ],
 "metadata": {
  "kernelspec": {
   "display_name": "Python 3",
   "language": "python",
   "name": "python3"
  },
  "language_info": {
   "codemirror_mode": {
    "name": "ipython",
    "version": 3
   },
   "file_extension": ".py",
   "mimetype": "text/x-python",
   "name": "python",
   "nbconvert_exporter": "python",
   "pygments_lexer": "ipython3",
   "version": "3.6.3"
  }
 },
 "nbformat": 4,
 "nbformat_minor": 2
}
