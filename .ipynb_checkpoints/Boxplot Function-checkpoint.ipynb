{
 "cells": [
  {
   "cell_type": "markdown",
   "metadata": {
    "collapsed": true
   },
   "source": [
    "<img src=\"https://upload.wikimedia.org/wikipedia/en/5/56/Matplotlib_logo.svg\" height=\"200\" width=\"600\">"
   ]
  },
  {
   "cell_type": "markdown",
   "metadata": {},
   "source": [
    "# Boxplots"
   ]
  },
  {
   "cell_type": "markdown",
   "metadata": {},
   "source": [
    "The main purpose of this jupyter notebook is to investigate and explain box plots and their uses. The boxplot function from the Python package matplotlib.pyplot can be used to create box plots. In this notebook, we will:\n",
    "\n",
    "1. Summarise the history of the box plot and situations in which it used.\n",
    "2. Demonstrate the use of the box plot using data of your choosing.\n",
    "3. Explain any relevant terminology such as the terms quartile and percentile.\n",
    "4. Compare the box plot to alternatives."
   ]
  },
  {
   "cell_type": "markdown",
   "metadata": {},
   "source": [
    "## History of Boxplots"
   ]
  },
  {
   "cell_type": "markdown",
   "metadata": {},
   "source": [
    "The boxplot also know as the box and whisker plot was created in 1970 by John W Tukey. John W Tukey was an American mathematician. Mr. Tukey developed important theories about how to analyze data and compute series of numbers quickly. He spent decades as both a professor at Princeton University and a researcher at AT&T's Bell Laboratories, and his ideas continue to be a part of both doctoral statistics courses and high school math classes [[Tukey]](https://www.nytimes.com/2000/07/28/us/john-tukey-85-statistician-coined-the-word-software.html?pagewanted=print)"
   ]
  },
  {
   "cell_type": "markdown",
   "metadata": {},
   "source": [
    "<img src=\"https://upload.wikimedia.org/wikipedia/en/e/e9/John_Tukey.jpg\">"
   ]
  },
  {
   "cell_type": "markdown",
   "metadata": {},
   "source": [
    "The box and whisker plot is useful when displaying skewed data and whether there are any outliners in the dataset. The box and whisker plot is based on five numbers summary. These five numbers are minimum, first quartile (Q1), median, third quartile (Q3), and maximum.\n",
    "\n",
    "A box and whiker plot is a graph that gives you a good indication of how the values in the data are spread out. Although box lots may seem primitive in comparison to a histogram or density plot, they have the advantage of taking up less space, which is useful when comparing distributions between many groups or datasets.[[Data]](https://towardsdatascience.com/understanding-boxplots-5e2df7bcbd51)\n",
    "\n",
    "In a box and whisker plot:\n",
    "\n",
    " 1. The ends of the box are the upper and lower quartiles, so the box spans the interquartile range\n",
    " 2. The median is marked by a vertical line inside the box\n",
    " 3. The whiskers are the two lines outside the box that extend to the highest and lowest observations. [[Stat]](https://www150.statcan.gc.ca/n1/edu/power-pouvoir/ch12/5214889-eng.htm)"
   ]
  },
  {
   "cell_type": "markdown",
   "metadata": {},
   "source": [
    "## Advantages and Disadvantages of Boxplot"
   ]
  },
  {
   "cell_type": "markdown",
   "metadata": {},
   "source": [
    "#### Advantages"
   ]
  },
  {
   "cell_type": "markdown",
   "metadata": {},
   "source": [
    "1 Box and whisker plots handle large data effortlessly. These graphs allow a clear summary of large amounts of data.\n",
    "\n",
    "\n",
    "2 Due to the five-number data summary, a box plot can handle and present a summary of a large amount of data. Organizing data in a box plot by using five key concepts is an efficient way of dealing with large data too unmanageable for other graphs, such as line plots or stem and leaf plots.\n",
    "\n",
    "\n",
    "3 A box plot shows only a simple summary of the distribution of results, so that it you can quickly view it and compare it with other data. \n",
    "\n",
    "\n",
    "4 A box plot is a highly visually effective way of viewing a clear summary of one or more sets of data\n",
    "\n",
    "5 A box plot is one of very few statistical graph methods that show outliers.There might be one outlier or multiple outliers within a set of data, which occurs both below and above the minimum and maximum data values. By extending the lesser and greater data values to a max of 1.5 times the inter-quartile range, the box plot delivers outliers or obscure results. Any results of data that fall outside of the minimum and maximum values known as outliers are easy to determine on a box plot graph. [[Science]](https://sciencing.com/advantages-disadvantages-box-plot-12025269.html)"
   ]
  },
  {
   "cell_type": "markdown",
   "metadata": {},
   "source": [
    "#### Disadvantages"
   ]
  },
  {
   "cell_type": "markdown",
   "metadata": {},
   "source": [
    "1 Original data is not clearly defined in the box plot and mean and mode cannot be identified in a box plot. \n",
    "\n",
    "\n",
    "2  Boxplots can only be used with numerical data "
   ]
  },
  {
   "cell_type": "markdown",
   "metadata": {},
   "source": [
    "## Use of boxplot"
   ]
  },
  {
   "cell_type": "markdown",
   "metadata": {
    "collapsed": true
   },
   "source": [
    "We will begin by plotting a basic box and whisker plot of the Iris dataset using seaborn. From our previous module, we investigted this dataset created by Ronald Fisher in 1936.\n",
    "\n",
    "In our first plot, we can see one varaible of the species showing the outliners. Our second plot, shows the sepal lenght of each of the three species with the count of each of the species and our final basic plot shows the all lines and all varaibles of all the three species.\n",
    "\n",
    "We also created a notched box and whisker plot which highlights the a confidence interval around the median which is normally based on the median +/- 1.57 x IQR/sqrt of n.  According to Graphical Methods for Data Analysis (Chambers, 1983) although not a formal test the, if two boxes' notches do not overlap there is ‘strong evidence’ (95% confidence) their medians differ. [[David]](https://sites.google.com/site/davidsstatistics/home/notched-box-plots)"
   ]
  },
  {
   "cell_type": "markdown",
   "metadata": {},
   "source": [
    "#### Seaborn"
   ]
  },
  {
   "cell_type": "code",
   "execution_count": 2,
   "metadata": {},
   "outputs": [
    {
     "data": {
      "text/plain": [
       "<matplotlib.axes._subplots.AxesSubplot at 0x2624a97bd68>"
      ]
     },
     "execution_count": 2,
     "metadata": {},
     "output_type": "execute_result"
    },
    {
     "data": {
      "image/png": "[encoded data removed]",
      "text/plain": [
       "<matplotlib.figure.Figure at 0x2624a97b4a8>"
      ]
     },
     "metadata": {},
     "output_type": "display_data"
    }
   ],
   "source": [
    "# Adopted from https://python-graph-gallery.com/30-basic-boxplot-with-seaborn/\n",
    "# Analysis the Iris Dataset - sepal width\n",
    "%matplotlib inline\n",
    "import seaborn as sns         # Import seaborn library\n",
    "df = sns.load_dataset('iris') # Import iris dataset\n",
    " \n",
    "# Make boxplot for sepal width with outliners\n",
    "sns.boxplot( y=df[\"sepal_width\"] )\n",
    "#sns.plt.show()\n"
   ]
  },
  {
   "cell_type": "code",
   "execution_count": 3,
   "metadata": {},
   "outputs": [
    {
     "data": {
      "image/png": "[encoded data removed]",
      "text/plain": [
       "<matplotlib.figure.Figure at 0x2624acbf668>"
      ]
     },
     "metadata": {},
     "output_type": "display_data"
    }
   ],
   "source": [
    "# Analysis the Iris Dataset - sepal length of spcies with how many were counted in dataset\n",
    "ax = sns.boxplot(x=\"species\", y=\"sepal_length\", data=df)\n",
    " \n",
    "# Calculate number of obs per group & median to position labels\n",
    "medians = df.groupby(['species'])['sepal_length'].median().values\n",
    "nobs = df['species'].value_counts().values\n",
    "nobs = [str(x) for x in nobs.tolist()]\n",
    "nobs = [\"n: \" + i for i in nobs]\n",
    " \n",
    "# Add it to the plot\n",
    "pos = range(len(nobs))\n",
    "for tick,label in zip(pos,ax.get_xticklabels()):\n",
    "  ax.text(pos[tick], medians[tick] + 0.05, nobs[tick], horizontalalignment='center', size='x-large', color='r', weight='bold') \n",
    "# sns.plt.show()"
   ]
  },
  {
   "cell_type": "code",
   "execution_count": 4,
   "metadata": {},
   "outputs": [
    {
     "data": {
      "text/plain": [
       "<matplotlib.axes._subplots.AxesSubplot at 0x2624acbf198>"
      ]
     },
     "execution_count": 4,
     "metadata": {},
     "output_type": "execute_result"
    },
    {
     "data": {
      "image/png": "[encoded data removed]",
      "text/plain": [
       "<matplotlib.figure.Figure at 0x2624854de80>"
      ]
     },
     "metadata": {},
     "output_type": "display_data"
    }
   ],
   "source": [
    "# Add notch\n",
    "sns.boxplot( x=df[\"species\"], y=df[\"petal_width\"], notch=True)\n",
    "#sns.plt.show()"
   ]
  },
  {
   "cell_type": "code",
   "execution_count": 5,
   "metadata": {},
   "outputs": [
    {
     "data": {
      "text/plain": [
       "<matplotlib.axes._subplots.AxesSubplot at 0x2624ae71e80>"
      ]
     },
     "execution_count": 5,
     "metadata": {},
     "output_type": "execute_result"
    },
    {
     "data": {
      "image/png": "[encoded data removed]",
      "text/plain": [
       "<matplotlib.figure.Figure at 0x2624854dd68>"
      ]
     },
     "metadata": {},
     "output_type": "display_data"
    }
   ],
   "source": [
    "# Analysis the Iris Dataset - of all lines of all variables of all species\n",
    "d = {\"sepal_length\": \"g\", \"sepal_width\": \"b\", \"petal_length\":\"m\", \"petal_width\": \"y\"}\n",
    "sns.boxplot(data=df.iloc[:,0:4], palette=d)\n",
    "#sns.plt.show()\n"
   ]
  },
  {
   "cell_type": "markdown",
   "metadata": {
    "collapsed": true
   },
   "source": [
    "#### Pandas"
   ]
  },
  {
   "cell_type": "markdown",
   "metadata": {},
   "source": [
    "We can also use the Panda Library when using the box and whisker plot to demostrate our data. Lets generate random tips that you would recive from working in a restaurant in a week. Then you will plot this using the box and whisker plot. This will provide us with a picture of Friday "
   ]
  },
  {
   "cell_type": "code",
   "execution_count": 11,
   "metadata": {},
   "outputs": [
    {
     "data": {
      "text/html": [
       "<div>\n",
       "<style>\n",
       "    .dataframe thead tr:only-child th {\n",
       "        text-align: right;\n",
       "    }\n",
       "\n",
       "    .dataframe thead th {\n",
       "        text-align: left;\n",
       "    }\n",
       "\n",
       "    .dataframe tbody tr th {\n",
       "        vertical-align: top;\n",
       "    }\n",
       "</style>\n",
       "<table border=\"1\" class=\"dataframe\">\n",
       "  <thead>\n",
       "    <tr style=\"text-align: right;\">\n",
       "      <th></th>\n",
       "      <th>Mon</th>\n",
       "      <th>Tues</th>\n",
       "      <th>Wedn</th>\n",
       "      <th>Thurs</th>\n",
       "      <th>Fri</th>\n",
       "      <th>Sat</th>\n",
       "      <th>Sun</th>\n",
       "    </tr>\n",
       "  </thead>\n",
       "  <tbody>\n",
       "    <tr>\n",
       "      <th>0</th>\n",
       "      <td>37.33</td>\n",
       "      <td>30.27</td>\n",
       "      <td>46.83</td>\n",
       "      <td>31.91</td>\n",
       "      <td>47.98</td>\n",
       "      <td>38.87</td>\n",
       "      <td>50.22</td>\n",
       "    </tr>\n",
       "    <tr>\n",
       "      <th>1</th>\n",
       "      <td>22.60</td>\n",
       "      <td>47.46</td>\n",
       "      <td>41.57</td>\n",
       "      <td>37.10</td>\n",
       "      <td>81.72</td>\n",
       "      <td>99.10</td>\n",
       "      <td>57.63</td>\n",
       "    </tr>\n",
       "    <tr>\n",
       "      <th>2</th>\n",
       "      <td>79.52</td>\n",
       "      <td>57.12</td>\n",
       "      <td>65.97</td>\n",
       "      <td>96.26</td>\n",
       "      <td>90.45</td>\n",
       "      <td>6.02</td>\n",
       "      <td>26.00</td>\n",
       "    </tr>\n",
       "    <tr>\n",
       "      <th>3</th>\n",
       "      <td>67.75</td>\n",
       "      <td>48.19</td>\n",
       "      <td>36.38</td>\n",
       "      <td>70.01</td>\n",
       "      <td>84.43</td>\n",
       "      <td>79.53</td>\n",
       "      <td>18.54</td>\n",
       "    </tr>\n",
       "    <tr>\n",
       "      <th>4</th>\n",
       "      <td>10.81</td>\n",
       "      <td>33.25</td>\n",
       "      <td>5.96</td>\n",
       "      <td>48.80</td>\n",
       "      <td>94.89</td>\n",
       "      <td>60.74</td>\n",
       "      <td>4.60</td>\n",
       "    </tr>\n",
       "    <tr>\n",
       "      <th>5</th>\n",
       "      <td>83.09</td>\n",
       "      <td>90.31</td>\n",
       "      <td>46.53</td>\n",
       "      <td>87.17</td>\n",
       "      <td>92.32</td>\n",
       "      <td>21.40</td>\n",
       "      <td>61.19</td>\n",
       "    </tr>\n",
       "    <tr>\n",
       "      <th>6</th>\n",
       "      <td>2.20</td>\n",
       "      <td>92.03</td>\n",
       "      <td>3.42</td>\n",
       "      <td>57.37</td>\n",
       "      <td>7.65</td>\n",
       "      <td>4.33</td>\n",
       "      <td>31.73</td>\n",
       "    </tr>\n",
       "    <tr>\n",
       "      <th>7</th>\n",
       "      <td>47.90</td>\n",
       "      <td>85.46</td>\n",
       "      <td>74.30</td>\n",
       "      <td>78.87</td>\n",
       "      <td>76.59</td>\n",
       "      <td>64.22</td>\n",
       "      <td>76.01</td>\n",
       "    </tr>\n",
       "    <tr>\n",
       "      <th>8</th>\n",
       "      <td>58.44</td>\n",
       "      <td>37.21</td>\n",
       "      <td>58.79</td>\n",
       "      <td>30.49</td>\n",
       "      <td>13.98</td>\n",
       "      <td>82.85</td>\n",
       "      <td>90.19</td>\n",
       "    </tr>\n",
       "    <tr>\n",
       "      <th>9</th>\n",
       "      <td>98.05</td>\n",
       "      <td>75.70</td>\n",
       "      <td>23.80</td>\n",
       "      <td>13.97</td>\n",
       "      <td>98.29</td>\n",
       "      <td>47.02</td>\n",
       "      <td>25.19</td>\n",
       "    </tr>\n",
       "    <tr>\n",
       "      <th>10</th>\n",
       "      <td>20.56</td>\n",
       "      <td>2.60</td>\n",
       "      <td>74.41</td>\n",
       "      <td>65.61</td>\n",
       "      <td>79.93</td>\n",
       "      <td>0.49</td>\n",
       "      <td>9.44</td>\n",
       "    </tr>\n",
       "    <tr>\n",
       "      <th>11</th>\n",
       "      <td>60.80</td>\n",
       "      <td>88.85</td>\n",
       "      <td>78.17</td>\n",
       "      <td>64.31</td>\n",
       "      <td>76.22</td>\n",
       "      <td>77.41</td>\n",
       "      <td>94.85</td>\n",
       "    </tr>\n",
       "    <tr>\n",
       "      <th>12</th>\n",
       "      <td>4.21</td>\n",
       "      <td>32.59</td>\n",
       "      <td>89.60</td>\n",
       "      <td>93.88</td>\n",
       "      <td>48.86</td>\n",
       "      <td>96.40</td>\n",
       "      <td>35.12</td>\n",
       "    </tr>\n",
       "    <tr>\n",
       "      <th>13</th>\n",
       "      <td>53.64</td>\n",
       "      <td>30.18</td>\n",
       "      <td>58.08</td>\n",
       "      <td>21.32</td>\n",
       "      <td>44.79</td>\n",
       "      <td>84.02</td>\n",
       "      <td>59.14</td>\n",
       "    </tr>\n",
       "    <tr>\n",
       "      <th>14</th>\n",
       "      <td>45.66</td>\n",
       "      <td>69.66</td>\n",
       "      <td>99.31</td>\n",
       "      <td>79.88</td>\n",
       "      <td>38.42</td>\n",
       "      <td>67.35</td>\n",
       "      <td>2.76</td>\n",
       "    </tr>\n",
       "    <tr>\n",
       "      <th>15</th>\n",
       "      <td>82.67</td>\n",
       "      <td>99.43</td>\n",
       "      <td>50.83</td>\n",
       "      <td>94.74</td>\n",
       "      <td>39.92</td>\n",
       "      <td>54.54</td>\n",
       "      <td>26.59</td>\n",
       "    </tr>\n",
       "    <tr>\n",
       "      <th>16</th>\n",
       "      <td>79.46</td>\n",
       "      <td>0.08</td>\n",
       "      <td>47.23</td>\n",
       "      <td>55.45</td>\n",
       "      <td>73.31</td>\n",
       "      <td>24.78</td>\n",
       "      <td>88.25</td>\n",
       "    </tr>\n",
       "    <tr>\n",
       "      <th>17</th>\n",
       "      <td>65.75</td>\n",
       "      <td>86.88</td>\n",
       "      <td>20.10</td>\n",
       "      <td>39.04</td>\n",
       "      <td>55.48</td>\n",
       "      <td>85.58</td>\n",
       "      <td>53.63</td>\n",
       "    </tr>\n",
       "    <tr>\n",
       "      <th>18</th>\n",
       "      <td>67.43</td>\n",
       "      <td>64.81</td>\n",
       "      <td>51.27</td>\n",
       "      <td>89.60</td>\n",
       "      <td>42.22</td>\n",
       "      <td>34.71</td>\n",
       "      <td>71.64</td>\n",
       "    </tr>\n",
       "    <tr>\n",
       "      <th>19</th>\n",
       "      <td>47.11</td>\n",
       "      <td>91.36</td>\n",
       "      <td>22.27</td>\n",
       "      <td>24.80</td>\n",
       "      <td>40.33</td>\n",
       "      <td>23.43</td>\n",
       "      <td>58.77</td>\n",
       "    </tr>\n",
       "  </tbody>\n",
       "</table>\n",
       "</div>"
      ],
      "text/plain": [
       "      Mon   Tues   Wedn  Thurs    Fri    Sat    Sun\n",
       "0   37.33  30.27  46.83  31.91  47.98  38.87  50.22\n",
       "1   22.60  47.46  41.57  37.10  81.72  99.10  57.63\n",
       "2   79.52  57.12  65.97  96.26  90.45   6.02  26.00\n",
       "3   67.75  48.19  36.38  70.01  84.43  79.53  18.54\n",
       "4   10.81  33.25   5.96  48.80  94.89  60.74   4.60\n",
       "5   83.09  90.31  46.53  87.17  92.32  21.40  61.19\n",
       "6    2.20  92.03   3.42  57.37   7.65   4.33  31.73\n",
       "7   47.90  85.46  74.30  78.87  76.59  64.22  76.01\n",
       "8   58.44  37.21  58.79  30.49  13.98  82.85  90.19\n",
       "9   98.05  75.70  23.80  13.97  98.29  47.02  25.19\n",
       "10  20.56   2.60  74.41  65.61  79.93   0.49   9.44\n",
       "11  60.80  88.85  78.17  64.31  76.22  77.41  94.85\n",
       "12   4.21  32.59  89.60  93.88  48.86  96.40  35.12\n",
       "13  53.64  30.18  58.08  21.32  44.79  84.02  59.14\n",
       "14  45.66  69.66  99.31  79.88  38.42  67.35   2.76\n",
       "15  82.67  99.43  50.83  94.74  39.92  54.54  26.59\n",
       "16  79.46   0.08  47.23  55.45  73.31  24.78  88.25\n",
       "17  65.75  86.88  20.10  39.04  55.48  85.58  53.63\n",
       "18  67.43  64.81  51.27  89.60  42.22  34.71  71.64\n",
       "19  47.11  91.36  22.27  24.80  40.33  23.43  58.77"
      ]
     },
     "execution_count": 11,
     "metadata": {},
     "output_type": "execute_result"
    }
   ],
   "source": [
    "# Create a random generated dataset using numpy and pandas library\n",
    "import numpy as np\n",
    "import pandas as pd\n",
    "data = np.round(pd.DataFrame(np.random.rand(20, 7) * 100 , columns=['Mon', 'Tues', 'Wedn', 'Thurs', 'Fri', 'Sat', 'Sun']) ,decimals=2)\n",
    "data"
   ]
  },
  {
   "cell_type": "code",
   "execution_count": 22,
   "metadata": {},
   "outputs": [
    {
     "name": "stdout",
     "output_type": "stream",
     "text": [
      "Mean of Each Day\n"
     ]
    },
    {
     "data": {
      "text/plain": [
       "Mon      51.7490\n",
       "Tues     58.1720\n",
       "Wedn     49.7410\n",
       "Thurs    59.0290\n",
       "Fri      61.3890\n",
       "Sat      52.6395\n",
       "Sun      47.0745\n",
       "dtype: float64"
      ]
     },
     "execution_count": 22,
     "metadata": {},
     "output_type": "execute_result"
    }
   ],
   "source": [
    "# Mean of each day\n",
    "print(\"Mean of Each Day\")\n",
    "data.mean()"
   ]
  },
  {
   "cell_type": "code",
   "execution_count": 14,
   "metadata": {
    "scrolled": true
   },
   "outputs": [
    {
     "data": {
      "text/plain": [
       "Text(0,0.5,'Tips')"
      ]
     },
     "execution_count": 14,
     "metadata": {},
     "output_type": "execute_result"
    },
    {
     "data": {
      "image/png": "[encoded data removed]",
      "text/plain": [
       "<matplotlib.figure.Figure at 0x2624b4cb978>"
      ]
     },
     "metadata": {},
     "output_type": "display_data"
    }
   ],
   "source": [
    "import matplotlib.pyplot as plt\n",
    "data.plot.box()\n",
    "plt.title(\"Group Boxplot\")\n",
    "plt.xlabel(\"Days of the Week\")\n",
    "plt.ylabel(\"Tips\")\n"
   ]
  },
  {
   "cell_type": "markdown",
   "metadata": {},
   "source": [
    "As we can see from the above data, Friday is the best day of the week to receive tips as the green line in the box and whisker plot is the highest mean. Thursday is the most compacted showing that the least worst tips and least best tips on this day. While Saturday has the biggest vareity of tip around the median."
   ]
  },
  {
   "cell_type": "markdown",
   "metadata": {},
   "source": [
    "#### Hoizontal Boxplot"
   ]
  },
  {
   "cell_type": "markdown",
   "metadata": {},
   "source": [
    "boxplot() function takes argument vert =0 which plots the horizontal box plot.\n",
    "Colors array takes up four different colors and passed to four different boxes of the boxplot with patch.set_facecolor() function."
   ]
  },
  {
   "cell_type": "code",
   "execution_count": 8,
   "metadata": {},
   "outputs": [
    {
     "data": {
      "text/plain": [
       "{'boxes': [<matplotlib.lines.Line2D at 0x2624b2c0b70>,\n",
       "  <matplotlib.lines.Line2D at 0x2624b2d5860>,\n",
       "  <matplotlib.lines.Line2D at 0x2624b2e5780>,\n",
       "  <matplotlib.lines.Line2D at 0x2624b2f46a0>,\n",
       "  <matplotlib.lines.Line2D at 0x2624b3065c0>],\n",
       " 'caps': [<matplotlib.lines.Line2D at 0x2624b2cc6d8>,\n",
       "  <matplotlib.lines.Line2D at 0x2624b2ccb38>,\n",
       "  <matplotlib.lines.Line2D at 0x2624b2dd5f8>,\n",
       "  <matplotlib.lines.Line2D at 0x2624b2dda58>,\n",
       "  <matplotlib.lines.Line2D at 0x2624b2ee518>,\n",
       "  <matplotlib.lines.Line2D at 0x2624b2ee978>,\n",
       "  <matplotlib.lines.Line2D at 0x2624b2fe438>,\n",
       "  <matplotlib.lines.Line2D at 0x2624b2fe898>,\n",
       "  <matplotlib.lines.Line2D at 0x2624b30e358>,\n",
       "  <matplotlib.lines.Line2D at 0x2624b30e7b8>],\n",
       " 'fliers': [<matplotlib.lines.Line2D at 0x2624b2d5438>,\n",
       "  <matplotlib.lines.Line2D at 0x2624b2e5358>,\n",
       "  <matplotlib.lines.Line2D at 0x2624b2f4278>,\n",
       "  <matplotlib.lines.Line2D at 0x2624b306198>,\n",
       "  <matplotlib.lines.Line2D at 0x2624b3180b8>],\n",
       " 'means': [],\n",
       " 'medians': [<matplotlib.lines.Line2D at 0x2624b2ccf98>,\n",
       "  <matplotlib.lines.Line2D at 0x2624b2ddeb8>,\n",
       "  <matplotlib.lines.Line2D at 0x2624b2eedd8>,\n",
       "  <matplotlib.lines.Line2D at 0x2624b2fecf8>,\n",
       "  <matplotlib.lines.Line2D at 0x2624b30ec18>],\n",
       " 'whiskers': [<matplotlib.lines.Line2D at 0x2624b2c0cf8>,\n",
       "  <matplotlib.lines.Line2D at 0x2624b2cc278>,\n",
       "  <matplotlib.lines.Line2D at 0x2624b2d5cf8>,\n",
       "  <matplotlib.lines.Line2D at 0x2624b2dd198>,\n",
       "  <matplotlib.lines.Line2D at 0x2624b2e5c18>,\n",
       "  <matplotlib.lines.Line2D at 0x2624b2ee0b8>,\n",
       "  <matplotlib.lines.Line2D at 0x2624b2f4b38>,\n",
       "  <matplotlib.lines.Line2D at 0x2624b2f4f98>,\n",
       "  <matplotlib.lines.Line2D at 0x2624b306a58>,\n",
       "  <matplotlib.lines.Line2D at 0x2624b306eb8>]}"
      ]
     },
     "execution_count": 8,
     "metadata": {},
     "output_type": "execute_result"
    },
    {
     "data": {
      "image/png": "[encoded data removed]",
      "text/plain": [
       "<matplotlib.figure.Figure at 0x2624aef8828>"
      ]
     },
     "metadata": {},
     "output_type": "display_data"
    }
   ],
   "source": [
    "# Create an Horizontal Boxplot\n",
    "\n",
    "N = 1000\n",
    "data_set1 = np.random.normal(1, 1, N)\n",
    "data_set2 = np.random.lognormal(1, 1, N)\n",
    "data_set3 = np.random.exponential(1, N)\n",
    "data_set4 = np.random.gumbel(6, 4, N)\n",
    "data_set5 = np.random.triangular(2, 9, 11, N)\n",
    " \n",
    "d = [data_set1, data_set2, data_set3, data_set4, data_set5]\n",
    "\n",
    "mpl_fig = plt.figure()\n",
    "ax = mpl_fig.add_subplot(111)\n",
    "\n",
    "ax.boxplot(d)\n"
   ]
  },
  {
   "cell_type": "code",
   "execution_count": 9,
   "metadata": {},
   "outputs": [
    {
     "data": {
      "image/png": "[encoded data removed]",
      "text/plain": [
       "<matplotlib.figure.Figure at 0x2624b318a90>"
      ]
     },
     "metadata": {},
     "output_type": "display_data"
    }
   ],
   "source": [
    "value1 = np.random.rand(50) * 100\n",
    "value2 = np.random.randn(10) * 10\n",
    "value3 = np.random.rand(10) * 100 \n",
    "value4 = np.random.rand(10) * -100\n",
    "\n",
    "box_plot_data=[value1,value2,value3,value4]\n",
    "box=plt.boxplot(box_plot_data,vert=0,patch_artist=True,labels=['course1','course2','course3','course4'],\n",
    "            )\n",
    " \n",
    "colors = ['cyan', 'lightblue', 'lightgreen', 'tan']\n",
    "for patch, color in zip(box['boxes'], colors):\n",
    "    patch.set_facecolor(color)\n",
    "plt.title(\"Horizontal Boxplot\") \n",
    "plt.show()\n"
   ]
  },
  {
   "cell_type": "markdown",
   "metadata": {},
   "source": [
    "## Terminology"
   ]
  },
  {
   "cell_type": "markdown",
   "metadata": {
    "collapsed": true
   },
   "source": [
    "#### Quartile"
   ]
  },
  {
   "cell_type": "markdown",
   "metadata": {},
   "source": [
    "Quartiles are the way in which you divide your data into four quarters in statistics. The first quartile (Q1) is the lowest 25%. The second quartile (Q2) is above the lowest 25% and the median. The third quartile is the median up to the 75% and finally the fourth quartile (Q4) is the highest 25%.\n",
    "\n",
    "Let's look at an example of quartiles but before we divide the data we must put the data in order starting from the lowest to the highest. So let's divide this data into quartiles : 4, 5, 16, 20, 54, 50, 36, 40, 13, 25, 31, 1. So we must put this data in order as follows: 1, 4, 5, 13, 16, 20, 25, 31, 36, 40, 50, 54. We have 12 numbers so each quartile will have 3 numbers as below;\n",
    "1, 4, 5| 13, 16, 20| 25, 31, 36| 40, 50, 54|\n",
    "\n",
    "If you have an uneven set of numbers, it’s OK to slice a number down the middle. This can get a little tricky (imagine trying to divide 10, 13, 17, 19, 21 into quarters!), so you may want to use an online interquartile range calculator to figure those quartiles out for you. The calculator gives you the 25th Percentile, which is the end of the first quartile, the 50th Percentile which is the end of the second quartile (or the median) and the 75th Percentile, which is the end of the third quartile. For 10, 13, 17, 19 and 21 the results are:\n",
    "25th Percentile: 11.5\n",
    "50th Percentile: 17\n",
    "75th Percentile: 20\n",
    "Interquartile Range: 8.5. [[Stat]](https://www.statisticshowto.datasciencecentral.com/what-are-quartiles/)\n",
    "\n"
   ]
  },
  {
   "cell_type": "markdown",
   "metadata": {},
   "source": [
    "#### Percentile"
   ]
  },
  {
   "cell_type": "markdown",
   "metadata": {},
   "source": [
    "A  percentile  is a comparison score between a particular score and the scores of the rest of a group. It shows the percentage of scores that a particular score surpassed. For example, if you score 75 points on a test, and are ranked in the 85 th  percentile, it means that the score 75 is higher than 85% of the scores. The percentile rank is calculated using the formula:\n",
    "R={P/100}(N) where P is the desired percentile and N is the number of data points. [[Varsity]](https://www.varsitytutors.com/hotmath/hotmath_help/topics/percentile)\n",
    "\n",
    "Again let's look at a simple example of percentiles. If the scores of a set of students in a math test are 20 , 30 , 15 and 75 what is the percentile rank of the score 30? Lets Arrange the numbers in ascending order and give the rank ranging from 1 to the lowest to 4 to the highest. Using the above formula: 3 = {p/100}(4), 3 = {p/25}, p = 75. Therefore the score 30 has a percentile of 75 [[Varsity]](https://www.varsitytutors.com/hotmath/hotmath_help/topics/percentile)\n",
    "\n",
    "Another defintion is percentile ranking. For example, if you score in the 25th percentile, then 25% of test takers are below your score. The “25” is called the percentile rank. [[Stat]](https://www.statisticshowto.datasciencecentral.com/probability-and-statistics/percentiles-rank-range/)\n",
    "\n",
    "A percentile range is the difference between two specified percentiles. these could theoretically be any two percentiles, but the 10-90 percentile range is the most common. To find the 10-90 percentile range:\n",
    "1. Calculate the 10th percentile using the above steps.\n",
    "2. Calculate the 90th percentile using the above steps.\n",
    "3. Subtract Step 1 (the 10th percentile) from Step 2 (the 90th percentile). [[Stat]](https://www.statisticshowto.datasciencecentral.com/probability-and-statistics/percentiles-rank-range/)"
   ]
  },
  {
   "cell_type": "markdown",
   "metadata": {},
   "source": [
    "#### Deciles"
   ]
  },
  {
   "cell_type": "code",
   "execution_count": null,
   "metadata": {
    "collapsed": true
   },
   "outputs": [],
   "source": []
  },
  {
   "cell_type": "code",
   "execution_count": null,
   "metadata": {
    "collapsed": true
   },
   "outputs": [],
   "source": []
  },
  {
   "cell_type": "markdown",
   "metadata": {},
   "source": [
    "## References"
   ]
  },
  {
   "cell_type": "markdown",
   "metadata": {},
   "source": [
    "[1] https://towardsdatascience.com/understanding-boxplots-5e2df7bcbd51"
   ]
  },
  {
   "cell_type": "markdown",
   "metadata": {},
   "source": [
    "[2] http://vita.had.co.nz/papers/boxplots.pdf"
   ]
  },
  {
   "cell_type": "markdown",
   "metadata": {
    "collapsed": true
   },
   "source": [
    "[3] https://www.nytimes.com/2000/07/28/us/john-tukey-85-statistician-coined-the-word-software.html?pagewanted=print"
   ]
  },
  {
   "cell_type": "markdown",
   "metadata": {},
   "source": [
    "[4] https://www150.statcan.gc.ca/n1/edu/power-pouvoir/ch12/5214889-eng.htm"
   ]
  },
  {
   "cell_type": "markdown",
   "metadata": {},
   "source": [
    "[5] https://sciencing.com/advantages-disadvantages-box-plot-12025269.html"
   ]
  },
  {
   "cell_type": "markdown",
   "metadata": {},
   "source": [
    "[6] https://python-graph-gallery.com/30-basic-boxplot-with-seaborn/"
   ]
  },
  {
   "cell_type": "markdown",
   "metadata": {},
   "source": [
    "[7] https://sites.google.com/site/davidsstatistics/home/notched-box-plots"
   ]
  },
  {
   "cell_type": "markdown",
   "metadata": {},
   "source": [
    "[8] http://www.datasciencemadesimple.com/box-plot-in-python/"
   ]
  },
  {
   "cell_type": "markdown",
   "metadata": {
    "collapsed": true
   },
   "source": [
    "[9] https://www.statisticshowto.datasciencecentral.com/what-are-quartiles/"
   ]
  },
  {
   "cell_type": "markdown",
   "metadata": {},
   "source": [
    "[10] https://www.varsitytutors.com/hotmath/hotmath_help/topics/percentile"
   ]
  }
 ],
 "metadata": {
  "kernelspec": {
   "display_name": "Python 3",
   "language": "python",
   "name": "python3"
  },
  "language_info": {
   "codemirror_mode": {
    "name": "ipython",
    "version": 3
   },
   "file_extension": ".py",
   "mimetype": "text/x-python",
   "name": "python",
   "nbconvert_exporter": "python",
   "pygments_lexer": "ipython3",
   "version": "3.6.3"
  }
 },
 "nbformat": 4,
 "nbformat_minor": 2
}
