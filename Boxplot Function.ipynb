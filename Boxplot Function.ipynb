{
 "cells": [
  {
   "cell_type": "markdown",
   "metadata": {
    "collapsed": true
   },
   "source": [
    "<img src=\"https://upload.wikimedia.org/wikipedia/en/5/56/Matplotlib_logo.svg\" height=\"200\" width=\"600\">"
   ]
  },
  {
   "cell_type": "markdown",
   "metadata": {},
   "source": [
    "# Boxplots"
   ]
  },
  {
   "cell_type": "markdown",
   "metadata": {},
   "source": [
    "The main purpose of this jupyter notebook is to investigate and explain box plots and their uses. The boxplot function from the Python package matplotlib.pyplot can be used to create box plots. In this notebook, we will:\n",
    "\n",
    "1. Summarise the history of the box plot and situations in which it used.\n",
    "2. Demonstrate the use of the box plot using data of your choosing.\n",
    "3. Explain any relevant terminology such as the terms quartile and percentile.\n",
    "4. Compare the box plot to alternatives."
   ]
  },
  {
   "cell_type": "markdown",
   "metadata": {},
   "source": [
    "## History of Boxplots"
   ]
  },
  {
   "cell_type": "markdown",
   "metadata": {},
   "source": [
    "The boxplot also know as the box and whisker plot was created in 1970 by John W Tukey. John W Tukey was an American mathematician. Mr. Tukey developed important theories about how to analyze data and compute series of numbers quickly. He spent decades as both a professor at Princeton University and a researcher at AT&T's Bell Laboratories, and his ideas continue to be a part of both doctoral statistics courses and high school math classes [[Tukey]](https://www.nytimes.com/2000/07/28/us/john-tukey-85-statistician-coined-the-word-software.html?pagewanted=print)"
   ]
  },
  {
   "cell_type": "markdown",
   "metadata": {},
   "source": [
    "<img src=\"https://upload.wikimedia.org/wikipedia/en/e/e9/John_Tukey.jpg\">"
   ]
  },
  {
   "cell_type": "markdown",
   "metadata": {},
   "source": [
    "The box and whisker plot is useful when displaying skewed data and whether there are any outliners in the dataset. The box and whisker plot is based on five numbers summary. These five numbers are minimum, first quartile (Q1), median, third quartile (Q3), and maximum.\n",
    "\n",
    "A box and whiker plot is a graph that gives you a good indication of how the values in the data are spread out. Although box lots may seem primitive in comparison to a histogram or density plot, they have the advantage of taking up less space, which is useful when comparing distributions between many groups or datasets.[[Data]](https://towardsdatascience.com/understanding-boxplots-5e2df7bcbd51)\n",
    "\n",
    "In a box and whisker plot:\n",
    "\n",
    " 1. The ends of the box are the upper and lower quartiles, so the box spans the interquartile range\n",
    " 2. The median is marked by a vertical line inside the box\n",
    " 3. The whiskers are the two lines outside the box that extend to the highest and lowest observations. [[Stat]](https://www150.statcan.gc.ca/n1/edu/power-pouvoir/ch12/5214889-eng.htm)"
   ]
  },
  {
   "cell_type": "markdown",
   "metadata": {},
   "source": [
    "## Advantages and Disadvantages of Boxplot"
   ]
  },
  {
   "cell_type": "markdown",
   "metadata": {},
   "source": [
    "#### Advantages"
   ]
  },
  {
   "cell_type": "markdown",
   "metadata": {},
   "source": [
    "1 Box and whisker plots handle large data effortlessly. These graphs allow a clear summary of large amounts of data.\n",
    "\n",
    "\n",
    "2 Due to the five-number data summary, a box plot can handle and present a summary of a large amount of data. Organizing data in a box plot by using five key concepts is an efficient way of dealing with large data too unmanageable for other graphs, such as line plots or stem and leaf plots.\n",
    "\n",
    "\n",
    "3 A box plot shows only a simple summary of the distribution of results, so that it you can quickly view it and compare it with other data. \n",
    "\n",
    "\n",
    "4 A box plot is a highly visually effective way of viewing a clear summary of one or more sets of data\n",
    "\n",
    "5 A box plot is one of very few statistical graph methods that show outliers.There might be one outlier or multiple outliers within a set of data, which occurs both below and above the minimum and maximum data values. By extending the lesser and greater data values to a max of 1.5 times the inter-quartile range, the box plot delivers outliers or obscure results. Any results of data that fall outside of the minimum and maximum values known as outliers are easy to determine on a box plot graph. [[Science]](https://sciencing.com/advantages-disadvantages-box-plot-12025269.html)"
   ]
  },
  {
   "cell_type": "markdown",
   "metadata": {},
   "source": [
    "#### Disadvantages"
   ]
  },
  {
   "cell_type": "markdown",
   "metadata": {},
   "source": [
    "1 Original data is not clearly defined in the box plot and mean and mode cannot be identified in a box plot. \n",
    "\n",
    "\n",
    "2  Boxplots can only be used with numerical data "
   ]
  },
  {
   "cell_type": "markdown",
   "metadata": {},
   "source": [
    "## Use of boxplot"
   ]
  },
  {
   "cell_type": "markdown",
   "metadata": {
    "collapsed": true
   },
   "source": [
    "We will begin by plotting a basic box and whisker plot of the Iris dataset using seaborn. From our previous module, we investigted this dataset created by Ronald Fisher in 1936.\n",
    "\n",
    "In our first plot, we can see one varaible of the species showing the outliners. Our second plot, shows the sepal lenght of each of the three species with the count of each of the species and our final basic plot shows the all lines and all varaibles of all the three species.\n",
    "\n",
    "We also created a notched box and whisker plot which highlights the a confidence interval around the median which is normally based on the median +/- 1.57 x IQR/sqrt of n.  According to Graphical Methods for Data Analysis (Chambers, 1983) although not a formal test the, if two boxes' notches do not overlap there is ‘strong evidence’ (95% confidence) their medians differ. [[David]](https://sites.google.com/site/davidsstatistics/home/notched-box-plots)"
   ]
  },
  {
   "cell_type": "markdown",
   "metadata": {},
   "source": [
    "#### Seaborn"
   ]
  },
  {
   "cell_type": "code",
   "execution_count": 28,
   "metadata": {},
   "outputs": [
    {
     "data": {
      "text/plain": [
       "<matplotlib.axes._subplots.AxesSubplot at 0x223185ecf28>"
      ]
     },
     "execution_count": 28,
     "metadata": {},
     "output_type": "execute_result"
    },
    {
     "data": {
      "image/png": "[encoded data removed]",
      "text/plain": [
       "<matplotlib.figure.Figure at 0x223189fe710>"
      ]
     },
     "metadata": {},
     "output_type": "display_data"
    }
   ],
   "source": [
    "# Adopted from https://python-graph-gallery.com/30-basic-boxplot-with-seaborn/\n",
    "# Analysis the Iris Dataset - sepal width\n",
    "%matplotlib inline\n",
    "import seaborn as sns         # Import seaborn library\n",
    "df = sns.load_dataset('iris') # Import iris dataset\n",
    " \n",
    "# Make boxplot for sepal width with outliners\n",
    "sns.boxplot( y=df[\"sepal_width\"] )\n",
    "#sns.plt.show()\n"
   ]
  },
  {
   "cell_type": "code",
   "execution_count": 29,
   "metadata": {},
   "outputs": [
    {
     "data": {
      "image/png": "[encoded data removed]",
      "text/plain": [
       "<matplotlib.figure.Figure at 0x22318aad4a8>"
      ]
     },
     "metadata": {},
     "output_type": "display_data"
    }
   ],
   "source": [
    "# Analysis the Iris Dataset - sepal length of spcies with how many were counted in dataset\n",
    "ax = sns.boxplot(x=\"species\", y=\"sepal_length\", data=df)\n",
    " \n",
    "# Calculate number of obs per group & median to position labels\n",
    "medians = df.groupby(['species'])['sepal_length'].median().values\n",
    "nobs = df['species'].value_counts().values\n",
    "nobs = [str(x) for x in nobs.tolist()]\n",
    "nobs = [\"n: \" + i for i in nobs]\n",
    " \n",
    "# Add it to the plot\n",
    "pos = range(len(nobs))\n",
    "for tick,label in zip(pos,ax.get_xticklabels()):\n",
    "  ax.text(pos[tick], medians[tick] + 0.05, nobs[tick], horizontalalignment='center', size='x-large', color='r', weight='bold') \n",
    "# sns.plt.show()"
   ]
  },
  {
   "cell_type": "code",
   "execution_count": 30,
   "metadata": {},
   "outputs": [
    {
     "data": {
      "text/plain": [
       "<matplotlib.axes._subplots.AxesSubplot at 0x22318aa8860>"
      ]
     },
     "execution_count": 30,
     "metadata": {},
     "output_type": "execute_result"
    },
    {
     "data": {
      "image/png": "[encoded data removed]",
      "text/plain": [
       "<matplotlib.figure.Figure at 0x22318a99f60>"
      ]
     },
     "metadata": {},
     "output_type": "display_data"
    }
   ],
   "source": [
    "# Add notch\n",
    "sns.boxplot( x=df[\"species\"], y=df[\"petal_width\"], notch=True)\n",
    "#sns.plt.show()"
   ]
  },
  {
   "cell_type": "code",
   "execution_count": 31,
   "metadata": {},
   "outputs": [
    {
     "data": {
      "text/plain": [
       "<matplotlib.axes._subplots.AxesSubplot at 0x22318aadcf8>"
      ]
     },
     "execution_count": 31,
     "metadata": {},
     "output_type": "execute_result"
    },
    {
     "data": {
      "image/png": "[encoded data removed]",
      "text/plain": [
       "<matplotlib.figure.Figure at 0x22318067da0>"
      ]
     },
     "metadata": {},
     "output_type": "display_data"
    }
   ],
   "source": [
    "# Analysis the Iris Dataset - of all lines of all variables of all species\n",
    "d = {\"sepal_length\": \"g\", \"sepal_width\": \"b\", \"petal_length\":\"m\", \"petal_width\": \"y\"}\n",
    "sns.boxplot(data=df.iloc[:,0:4], palette=d)\n",
    "#sns.plt.show()\n"
   ]
  },
  {
   "cell_type": "markdown",
   "metadata": {
    "collapsed": true
   },
   "source": [
    "#### Pandas"
   ]
  },
  {
   "cell_type": "markdown",
   "metadata": {},
   "source": [
    "We can also used the Panda Library when using the box and whisker plot to demostrate our data. First we will generate random postive integers between 0 and 1 creating four columns. This will generate a boxplot for the several groups named A to D."
   ]
  },
  {
   "cell_type": "code",
   "execution_count": 32,
   "metadata": {},
   "outputs": [
    {
     "data": {
      "text/html": [
       "<div>\n",
       "<style>\n",
       "    .dataframe thead tr:only-child th {\n",
       "        text-align: right;\n",
       "    }\n",
       "\n",
       "    .dataframe thead th {\n",
       "        text-align: left;\n",
       "    }\n",
       "\n",
       "    .dataframe tbody tr th {\n",
       "        vertical-align: top;\n",
       "    }\n",
       "</style>\n",
       "<table border=\"1\" class=\"dataframe\">\n",
       "  <thead>\n",
       "    <tr style=\"text-align: right;\">\n",
       "      <th></th>\n",
       "      <th>A</th>\n",
       "      <th>B</th>\n",
       "      <th>C</th>\n",
       "      <th>D</th>\n",
       "    </tr>\n",
       "  </thead>\n",
       "  <tbody>\n",
       "    <tr>\n",
       "      <th>0</th>\n",
       "      <td>0.91</td>\n",
       "      <td>0.90</td>\n",
       "      <td>0.03</td>\n",
       "      <td>0.39</td>\n",
       "    </tr>\n",
       "    <tr>\n",
       "      <th>1</th>\n",
       "      <td>0.02</td>\n",
       "      <td>0.71</td>\n",
       "      <td>0.08</td>\n",
       "      <td>0.57</td>\n",
       "    </tr>\n",
       "    <tr>\n",
       "      <th>2</th>\n",
       "      <td>0.90</td>\n",
       "      <td>0.48</td>\n",
       "      <td>0.68</td>\n",
       "      <td>0.52</td>\n",
       "    </tr>\n",
       "    <tr>\n",
       "      <th>3</th>\n",
       "      <td>0.48</td>\n",
       "      <td>0.86</td>\n",
       "      <td>0.09</td>\n",
       "      <td>0.90</td>\n",
       "    </tr>\n",
       "    <tr>\n",
       "      <th>4</th>\n",
       "      <td>0.89</td>\n",
       "      <td>0.63</td>\n",
       "      <td>0.88</td>\n",
       "      <td>0.19</td>\n",
       "    </tr>\n",
       "    <tr>\n",
       "      <th>5</th>\n",
       "      <td>0.44</td>\n",
       "      <td>0.16</td>\n",
       "      <td>0.71</td>\n",
       "      <td>0.55</td>\n",
       "    </tr>\n",
       "    <tr>\n",
       "      <th>6</th>\n",
       "      <td>0.99</td>\n",
       "      <td>0.28</td>\n",
       "      <td>0.59</td>\n",
       "      <td>0.34</td>\n",
       "    </tr>\n",
       "    <tr>\n",
       "      <th>7</th>\n",
       "      <td>0.32</td>\n",
       "      <td>0.79</td>\n",
       "      <td>0.20</td>\n",
       "      <td>0.71</td>\n",
       "    </tr>\n",
       "    <tr>\n",
       "      <th>8</th>\n",
       "      <td>0.03</td>\n",
       "      <td>0.24</td>\n",
       "      <td>0.29</td>\n",
       "      <td>0.79</td>\n",
       "    </tr>\n",
       "    <tr>\n",
       "      <th>9</th>\n",
       "      <td>0.00</td>\n",
       "      <td>0.16</td>\n",
       "      <td>0.03</td>\n",
       "      <td>0.38</td>\n",
       "    </tr>\n",
       "    <tr>\n",
       "      <th>10</th>\n",
       "      <td>0.10</td>\n",
       "      <td>0.63</td>\n",
       "      <td>0.67</td>\n",
       "      <td>0.78</td>\n",
       "    </tr>\n",
       "    <tr>\n",
       "      <th>11</th>\n",
       "      <td>0.43</td>\n",
       "      <td>0.79</td>\n",
       "      <td>0.02</td>\n",
       "      <td>0.48</td>\n",
       "    </tr>\n",
       "    <tr>\n",
       "      <th>12</th>\n",
       "      <td>0.59</td>\n",
       "      <td>0.87</td>\n",
       "      <td>0.72</td>\n",
       "      <td>0.34</td>\n",
       "    </tr>\n",
       "    <tr>\n",
       "      <th>13</th>\n",
       "      <td>0.26</td>\n",
       "      <td>0.30</td>\n",
       "      <td>0.08</td>\n",
       "      <td>0.32</td>\n",
       "    </tr>\n",
       "    <tr>\n",
       "      <th>14</th>\n",
       "      <td>0.83</td>\n",
       "      <td>0.88</td>\n",
       "      <td>0.11</td>\n",
       "      <td>0.55</td>\n",
       "    </tr>\n",
       "    <tr>\n",
       "      <th>15</th>\n",
       "      <td>0.15</td>\n",
       "      <td>0.74</td>\n",
       "      <td>0.90</td>\n",
       "      <td>0.20</td>\n",
       "    </tr>\n",
       "    <tr>\n",
       "      <th>16</th>\n",
       "      <td>0.67</td>\n",
       "      <td>0.34</td>\n",
       "      <td>0.41</td>\n",
       "      <td>0.02</td>\n",
       "    </tr>\n",
       "    <tr>\n",
       "      <th>17</th>\n",
       "      <td>0.15</td>\n",
       "      <td>0.82</td>\n",
       "      <td>0.40</td>\n",
       "      <td>0.94</td>\n",
       "    </tr>\n",
       "    <tr>\n",
       "      <th>18</th>\n",
       "      <td>0.55</td>\n",
       "      <td>0.63</td>\n",
       "      <td>0.05</td>\n",
       "      <td>0.19</td>\n",
       "    </tr>\n",
       "    <tr>\n",
       "      <th>19</th>\n",
       "      <td>0.34</td>\n",
       "      <td>0.63</td>\n",
       "      <td>0.46</td>\n",
       "      <td>0.63</td>\n",
       "    </tr>\n",
       "  </tbody>\n",
       "</table>\n",
       "</div>"
      ],
      "text/plain": [
       "       A     B     C     D\n",
       "0   0.91  0.90  0.03  0.39\n",
       "1   0.02  0.71  0.08  0.57\n",
       "2   0.90  0.48  0.68  0.52\n",
       "3   0.48  0.86  0.09  0.90\n",
       "4   0.89  0.63  0.88  0.19\n",
       "5   0.44  0.16  0.71  0.55\n",
       "6   0.99  0.28  0.59  0.34\n",
       "7   0.32  0.79  0.20  0.71\n",
       "8   0.03  0.24  0.29  0.79\n",
       "9   0.00  0.16  0.03  0.38\n",
       "10  0.10  0.63  0.67  0.78\n",
       "11  0.43  0.79  0.02  0.48\n",
       "12  0.59  0.87  0.72  0.34\n",
       "13  0.26  0.30  0.08  0.32\n",
       "14  0.83  0.88  0.11  0.55\n",
       "15  0.15  0.74  0.90  0.20\n",
       "16  0.67  0.34  0.41  0.02\n",
       "17  0.15  0.82  0.40  0.94\n",
       "18  0.55  0.63  0.05  0.19\n",
       "19  0.34  0.63  0.46  0.63"
      ]
     },
     "execution_count": 32,
     "metadata": {},
     "output_type": "execute_result"
    }
   ],
   "source": [
    "# Create a random generated dataset using numpy and pandas library\n",
    "import numpy as np\n",
    "import pandas as pd\n",
    "data = np.round(pd.DataFrame(np.random.rand(20, 4) , columns=['A', 'B', 'C', 'D']) ,decimals=2)\n",
    "data"
   ]
  },
  {
   "cell_type": "code",
   "execution_count": 36,
   "metadata": {
    "scrolled": true
   },
   "outputs": [
    {
     "data": {
      "text/plain": [
       "Text(0,0.5,'Groups')"
      ]
     },
     "execution_count": 36,
     "metadata": {},
     "output_type": "execute_result"
    },
    {
     "data": {
      "image/png": "[encoded data removed]",
      "text/plain": [
       "<matplotlib.figure.Figure at 0x22319e75550>"
      ]
     },
     "metadata": {},
     "output_type": "display_data"
    }
   ],
   "source": [
    "import matplotlib.pyplot as plt\n",
    "data.plot.box()\n",
    "plt.title(\"Group Boxplot\")\n",
    "plt.xlabel(\"Integers\")\n",
    "plt.ylabel(\"Groups\")\n"
   ]
  },
  {
   "cell_type": "markdown",
   "metadata": {},
   "source": [
    "#### Hoizontal Boxplot"
   ]
  },
  {
   "cell_type": "markdown",
   "metadata": {},
   "source": [
    "boxplot() function takes argument vert =0 which plots the horizontal box plot.\n",
    "Colors array takes up four different colors and passed to four different boxes of the boxplot with patch.set_facecolor() function."
   ]
  },
  {
   "cell_type": "code",
   "execution_count": 45,
   "metadata": {},
   "outputs": [
    {
     "data": {
      "text/plain": [
       "{'boxes': [<matplotlib.lines.Line2D at 0x2231a1c89b0>,\n",
       "  <matplotlib.lines.Line2D at 0x2231a1dc6a0>,\n",
       "  <matplotlib.lines.Line2D at 0x2231a1ee5c0>,\n",
       "  <matplotlib.lines.Line2D at 0x2231a1fe4e0>,\n",
       "  <matplotlib.lines.Line2D at 0x2231a2103c8>],\n",
       " 'caps': [<matplotlib.lines.Line2D at 0x2231a1d5518>,\n",
       "  <matplotlib.lines.Line2D at 0x2231a1d5978>,\n",
       "  <matplotlib.lines.Line2D at 0x2231a1e4438>,\n",
       "  <matplotlib.lines.Line2D at 0x2231a1e4898>,\n",
       "  <matplotlib.lines.Line2D at 0x2231a1f5358>,\n",
       "  <matplotlib.lines.Line2D at 0x2231a1f57b8>,\n",
       "  <matplotlib.lines.Line2D at 0x2231a205278>,\n",
       "  <matplotlib.lines.Line2D at 0x2231a2056d8>,\n",
       "  <matplotlib.lines.Line2D at 0x2231a217160>,\n",
       "  <matplotlib.lines.Line2D at 0x2231a2175c0>],\n",
       " 'fliers': [<matplotlib.lines.Line2D at 0x2231a1dc278>,\n",
       "  <matplotlib.lines.Line2D at 0x2231a1ee198>,\n",
       "  <matplotlib.lines.Line2D at 0x2231a1fe0b8>,\n",
       "  <matplotlib.lines.Line2D at 0x2231a205f60>,\n",
       "  <matplotlib.lines.Line2D at 0x2231a217e80>],\n",
       " 'means': [],\n",
       " 'medians': [<matplotlib.lines.Line2D at 0x2231a1d5dd8>,\n",
       "  <matplotlib.lines.Line2D at 0x2231a1e4cf8>,\n",
       "  <matplotlib.lines.Line2D at 0x2231a1f5c18>,\n",
       "  <matplotlib.lines.Line2D at 0x2231a205b38>,\n",
       "  <matplotlib.lines.Line2D at 0x2231a217a20>],\n",
       " 'whiskers': [<matplotlib.lines.Line2D at 0x2231a1c8b38>,\n",
       "  <matplotlib.lines.Line2D at 0x2231a1d50b8>,\n",
       "  <matplotlib.lines.Line2D at 0x2231a1dcb38>,\n",
       "  <matplotlib.lines.Line2D at 0x2231a1dcf98>,\n",
       "  <matplotlib.lines.Line2D at 0x2231a1eea58>,\n",
       "  <matplotlib.lines.Line2D at 0x2231a1eeeb8>,\n",
       "  <matplotlib.lines.Line2D at 0x2231a1fe978>,\n",
       "  <matplotlib.lines.Line2D at 0x2231a1fedd8>,\n",
       "  <matplotlib.lines.Line2D at 0x2231a210860>,\n",
       "  <matplotlib.lines.Line2D at 0x2231a210cc0>]}"
      ]
     },
     "execution_count": 45,
     "metadata": {},
     "output_type": "execute_result"
    },
    {
     "data": {
      "image/png": "[encoded data removed]",
      "text/plain": [
       "<matplotlib.figure.Figure at 0x2231a178860>"
      ]
     },
     "metadata": {},
     "output_type": "display_data"
    }
   ],
   "source": [
    "# Create an Horizontal Boxplot\n",
    "\n",
    "N = 1000\n",
    "data_set1 = np.random.normal(1, 1, N)\n",
    "data_set2 = np.random.lognormal(1, 1, N)\n",
    "data_set3 = np.random.exponential(1, N)\n",
    "data_set4 = np.random.gumbel(6, 4, N)\n",
    "data_set5 = np.random.triangular(2, 9, 11, N)\n",
    " \n",
    "d = [data_set1, data_set2, data_set3, data_set4, data_set5]\n",
    "\n",
    "mpl_fig = plt.figure()\n",
    "ax = mpl_fig.add_subplot(111)\n",
    "\n",
    "ax.boxplot(d)\n"
   ]
  },
  {
   "cell_type": "code",
   "execution_count": 65,
   "metadata": {},
   "outputs": [
    {
     "data": {
      "image/png": "[encoded data removed]",
      "text/plain": [
       "<matplotlib.figure.Figure at 0x2231a0491d0>"
      ]
     },
     "metadata": {},
     "output_type": "display_data"
    }
   ],
   "source": [
    "value1 = np.random.rand(50) * 100\n",
    "value2 = np.random.randn(10) * 10\n",
    "value3 = np.random.rand(10) * 100 \n",
    "value4 = np.random.rand(10) * -100\n",
    "\n",
    "box_plot_data=[value1,value2,value3,value4]\n",
    "box=plt.boxplot(box_plot_data,vert=0,patch_artist=True,labels=['course1','course2','course3','course4'],\n",
    "            )\n",
    " \n",
    "colors = ['cyan', 'lightblue', 'lightgreen', 'tan']\n",
    "for patch, color in zip(box['boxes'], colors):\n",
    "    patch.set_facecolor(color)\n",
    "plt.title(\"Horizontal Boxplot\") \n",
    "plt.show()\n"
   ]
  },
  {
   "cell_type": "markdown",
   "metadata": {},
   "source": [
    "## Terminology"
   ]
  },
  {
   "cell_type": "code",
   "execution_count": null,
   "metadata": {
    "collapsed": true
   },
   "outputs": [],
   "source": []
  },
  {
   "cell_type": "markdown",
   "metadata": {},
   "source": [
    "## References"
   ]
  },
  {
   "cell_type": "markdown",
   "metadata": {},
   "source": [
    "[1] https://towardsdatascience.com/understanding-boxplots-5e2df7bcbd51"
   ]
  },
  {
   "cell_type": "markdown",
   "metadata": {},
   "source": [
    "[2] http://vita.had.co.nz/papers/boxplots.pdf"
   ]
  },
  {
   "cell_type": "markdown",
   "metadata": {
    "collapsed": true
   },
   "source": [
    "[3] https://www.nytimes.com/2000/07/28/us/john-tukey-85-statistician-coined-the-word-software.html?pagewanted=print"
   ]
  },
  {
   "cell_type": "markdown",
   "metadata": {},
   "source": [
    "[4] https://www150.statcan.gc.ca/n1/edu/power-pouvoir/ch12/5214889-eng.htm"
   ]
  },
  {
   "cell_type": "markdown",
   "metadata": {},
   "source": [
    "[5] https://sciencing.com/advantages-disadvantages-box-plot-12025269.html"
   ]
  },
  {
   "cell_type": "markdown",
   "metadata": {},
   "source": [
    "[6] https://python-graph-gallery.com/30-basic-boxplot-with-seaborn/"
   ]
  },
  {
   "cell_type": "markdown",
   "metadata": {},
   "source": [
    "[7] https://sites.google.com/site/davidsstatistics/home/notched-box-plots"
   ]
  },
  {
   "cell_type": "markdown",
   "metadata": {},
   "source": [
    "[8] http://www.datasciencemadesimple.com/box-plot-in-python/"
   ]
  },
  {
   "cell_type": "code",
   "execution_count": null,
   "metadata": {
    "collapsed": true
   },
   "outputs": [],
   "source": []
  }
 ],
 "metadata": {
  "kernelspec": {
   "display_name": "Python 3",
   "language": "python",
   "name": "python3"
  },
  "language_info": {
   "codemirror_mode": {
    "name": "ipython",
    "version": 3
   },
   "file_extension": ".py",
   "mimetype": "text/x-python",
   "name": "python",
   "nbconvert_exporter": "python",
   "pygments_lexer": "ipython3",
   "version": "3.6.3"
  }
 },
 "nbformat": 4,
 "nbformat_minor": 2
}
