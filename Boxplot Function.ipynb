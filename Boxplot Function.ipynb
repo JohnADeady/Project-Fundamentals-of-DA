{
 "cells": [
  {
   "cell_type": "markdown",
   "metadata": {
    "collapsed": true
   },
   "source": [
    "<img src=\"https://upload.wikimedia.org/wikipedia/en/5/56/Matplotlib_logo.svg\" height=\"600\" width=\"800\">"
   ]
  },
  {
   "cell_type": "markdown",
   "metadata": {},
   "source": [
    "# Box and Whisker plot"
   ]
  },
  {
   "cell_type": "markdown",
   "metadata": {},
   "source": [
    "The main purpose of this Jupyter notebook is to investigate and explain box and whisker plot and it's function. The box and whisker plot is a function from the Python package matplotlib.pyplot and can be used to create plots. In this notebook, we will:\n",
    "\n",
    "1. Summarise the history of the box and whisker plot and situations in which it can be used.\n",
    "2. Demonstrate the use of the box ans whisker plot using data of your choosing.\n",
    "3. Explain any relevant terminology such as the terms quartile and percentile.\n",
    "4. Compare the box plot to alternatives."
   ]
  },
  {
   "cell_type": "markdown",
   "metadata": {},
   "source": [
    "## History of Boxplots"
   ]
  },
  {
   "cell_type": "markdown",
   "metadata": {},
   "source": [
    "The boxplot also known as the box and whisker plot was created in 1970 by John W Tukey. John W Tukey was an American mathematician. Mr. Tukey developed important theories about how to analyse data and compute series of numbers quickly. He spent decades as both a professor at Princeton University and a researcher at AT&T's Bell Laboratories, and his ideas continue to be a part of both doctoral statistics courses and high school math classes. [[Tukey]](https://www.nytimes.com/2000/07/28/us/john-tukey-85-statistician-coined-the-word-software.html?pagewanted=print)"
   ]
  },
  {
   "cell_type": "markdown",
   "metadata": {},
   "source": [
    "<img src=\"https://upload.wikimedia.org/wikipedia/en/e/e9/John_Tukey.jpg\">"
   ]
  },
  {
   "cell_type": "markdown",
   "metadata": {},
   "source": [
    "The box and whisker plot is useful when displaying skewed data and whether there are any outliners in the dataset. The box and whisker plot is based on five numbers summary. These five numbers are minimum, first quartile (Q1), median, third quartile (Q3), and maximum. As we can see from the below image."
   ]
  },
  {
   "cell_type": "markdown",
   "metadata": {},
   "source": [
    "<img src=\"box_plot.JPG\">"
   ]
  },
  {
   "cell_type": "markdown",
   "metadata": {},
   "source": [
    "A box and whisker plot is a graph that gives you a good indication of how the values in the data are spread out. Although box lots may seem primitive in comparison to a histogram or density plot, they have the advantage of taking up less space, which is useful when comparing distributions between many groups or datasets.[[Data]](https://towardsdatascience.com/understanding-boxplots-5e2df7bcbd51)\n",
    "\n",
    "In a box and whisker plot:\n",
    "\n",
    " 1. The ends of the box are the upper and lower quartiles, so the box spans the interquartile range\n",
    " 2. The median is marked by a vertical line inside the box\n",
    " 3. The whiskers are the two lines outside the box that extend to the highest and lowest observations. [[Stat]](https://www150.statcan.gc.ca/n1/edu/power-pouvoir/ch12/5214889-eng.htm)"
   ]
  },
  {
   "cell_type": "markdown",
   "metadata": {},
   "source": [
    "## Advantages and Disadvantages of Boxplot"
   ]
  },
  {
   "cell_type": "markdown",
   "metadata": {},
   "source": [
    "#### Advantages"
   ]
  },
  {
   "cell_type": "markdown",
   "metadata": {},
   "source": [
    "1 Box and whisker plots handle large data effortlessly. These graphs allow a clear summary of large amounts of data.\n",
    "\n",
    "\n",
    "2 Organizing data in a box plot by using five key concepts is an efficient way of dealing with large data too unmanageable for other graphs, such as line plots or stem and leaf plots.\n",
    "\n",
    "\n",
    "3 A box plot shows only a simple summary of the distribution of results, so that it you can quickly view it and compare it with other data. \n",
    "\n",
    "\n",
    "4 A box plot is a highly visually effective way of viewing a clear summary of one or more sets of data\n",
    "\n",
    "5 A box plot is one of very few statistical graph methods that show outliers.There might be one outlier or multiple outliers within a set of data, which occurs both below and above the minimum and maximum data values. By extending the lesser and greater data values to a max of 1.5 times the inter-quartile range, the box plot delivers outliers or obscure results. Any results of data that fall outside of the minimum and maximum values known as outliers are easy to determine on a box plot graph. [[Science]](https://sciencing.com/advantages-disadvantages-box-plot-12025269.html)"
   ]
  },
  {
   "cell_type": "markdown",
   "metadata": {},
   "source": [
    "#### Disadvantages"
   ]
  },
  {
   "cell_type": "markdown",
   "metadata": {},
   "source": [
    "1 Original data is not clearly defined in the box plot.\n",
    "\n",
    "2  Boxplots can only be used with numerical data "
   ]
  },
  {
   "cell_type": "markdown",
   "metadata": {},
   "source": [
    "## Use of boxplot"
   ]
  },
  {
   "cell_type": "markdown",
   "metadata": {
    "collapsed": true
   },
   "source": [
    "We will begin by plotting a basic box and whisker plot of the Iris dataset using seaborn. From our previous module programming and scripting, we will generate plots from this dataset created by Ronald Fisher in 1936.\n",
    "\n",
    "In our first plot, we can see one variable of the species showing the outliners. Our second plot shows the sepal length of each of the three species with the count located on each of the species and our final basic plot shows the all lines and all variables of all the three species.\n",
    "\n",
    "We also created a notched box and whisker plot which highlights the a confidence interval around the median which is normally based on the median +/- 1.57 x IQR/sqrt of n.  According to Graphical Methods for Data Analysis (Chambers, 1983) although not a formal test the, if two boxes' notches do not overlap there is ‘strong evidence’ (95% confidence) their medians differ. [[David]](https://sites.google.com/site/davidsstatistics/home/notched-box-plots)"
   ]
  },
  {
   "cell_type": "markdown",
   "metadata": {},
   "source": [
    "#### Seaborn"
   ]
  },
  {
   "cell_type": "code",
   "execution_count": 13,
   "metadata": {},
   "outputs": [
    {
     "data": {
      "text/plain": [
       "Text(0.5,1,'Iris Dataset')"
      ]
     },
     "execution_count": 13,
     "metadata": {},
     "output_type": "execute_result"
    },
    {
     "data": {
      "image/png": "[encoded data removed]",
      "text/plain": [
       "<matplotlib.figure.Figure at 0x2992895f5c0>"
      ]
     },
     "metadata": {},
     "output_type": "display_data"
    }
   ],
   "source": [
    "# Adopted from https://python-graph-gallery.com/30-basic-boxplot-with-seaborn/\n",
    "# Analysis the Iris Dataset - sepal width\n",
    "%matplotlib inline\n",
    "import matplotlib.pyplot as plt # Import Matplotlib library\n",
    "import seaborn as sns         # Import seaborn library\n",
    "df = sns.load_dataset('iris') # Import iris dataset\n",
    " \n",
    "# Make boxplot for sepal width with outliners\n",
    "\n",
    "sns.boxplot( y=df[\"sepal_width\"]) # Show boxplot with y axis as Sepal Width\n",
    "plt.title(\"Iris Dataset\")         # Title"
   ]
  },
  {
   "cell_type": "markdown",
   "metadata": {},
   "source": [
    "As we can see from the above box and whisker plot, the mean of the sepal width is 3 while we can see a number of outliners from the boxplot at 2 and above 4. "
   ]
  },
  {
   "cell_type": "code",
   "execution_count": 21,
   "metadata": {},
   "outputs": [
    {
     "data": {
      "text/plain": [
       "sepal_length    5.843333\n",
       "sepal_width     3.057333\n",
       "petal_length    3.758000\n",
       "petal_width     1.199333\n",
       "dtype: float64"
      ]
     },
     "execution_count": 21,
     "metadata": {},
     "output_type": "execute_result"
    }
   ],
   "source": [
    "df.mean()"
   ]
  },
  {
   "cell_type": "code",
   "execution_count": 25,
   "metadata": {},
   "outputs": [
    {
     "data": {
      "image/png": "[encoded data removed]",
      "text/plain": [
       "<matplotlib.figure.Figure at 0x29928cc2748>"
      ]
     },
     "metadata": {},
     "output_type": "display_data"
    }
   ],
   "source": [
    "# Analysis the Iris Dataset - sepal length of spcies with how many were measured in the dataset\n",
    "a = sns.boxplot(x=\"species\", y=\"sepal_length\", data=df)\n",
    " \n",
    "# Calculate number of measured per group & median to position labels\n",
    "medians = df.groupby(['species'])['sepal_length'].median().values\n",
    "nobs = df['species'].value_counts().values\n",
    "nobs = [str(x) for x in nobs.tolist()]\n",
    "nobs = [\"n: \" + i for i in nobs]\n",
    " \n",
    "# Add it to the plot\n",
    "pos = range(len(nobs))\n",
    "for tick,label in zip(pos,a.get_xticklabels()):\n",
    "  a.text(pos[tick], medians[tick] + 0.05, nobs[tick], horizontalalignment='center', size='x-large', color='r', weight='bold') \n",
    "# sns.plt.show()"
   ]
  },
  {
   "cell_type": "code",
   "execution_count": 28,
   "metadata": {},
   "outputs": [
    {
     "data": {
      "text/plain": [
       "Text(0.5,1,'Iris Dataset')"
      ]
     },
     "execution_count": 28,
     "metadata": {},
     "output_type": "execute_result"
    },
    {
     "data": {
      "image/png": "[encoded data removed]",
      "text/plain": [
       "<matplotlib.figure.Figure at 0x29928cd3908>"
      ]
     },
     "metadata": {},
     "output_type": "display_data"
    }
   ],
   "source": [
    "# Analysis the Iris Dataset - of all lines of all variables of all species\n",
    "d = {\"sepal_length\": \"g\", \"sepal_width\": \"b\", \"petal_length\":\"m\", \"petal_width\": \"y\"} # Colours of variables\n",
    "sns.boxplot(data=df.iloc[:,0:4], palette=d) # Boxplot of 4 variables\n",
    "plt.title(\"Iris Dataset\")                   # Title\n",
    "#sns.plt.show()"
   ]
  },
  {
   "cell_type": "code",
   "execution_count": 32,
   "metadata": {},
   "outputs": [
    {
     "data": {
      "text/plain": [
       "Text(0.5,1,'Iris Dataset')"
      ]
     },
     "execution_count": 32,
     "metadata": {},
     "output_type": "execute_result"
    },
    {
     "data": {
      "image/png": "[encoded data removed]",
      "text/plain": [
       "<matplotlib.figure.Figure at 0x29928e801d0>"
      ]
     },
     "metadata": {},
     "output_type": "display_data"
    }
   ],
   "source": [
    "# Add notch to the three species\n",
    "sns.boxplot( x=df[\"species\"], y=df[\"sepal_length\"], notch=True)\n",
    "plt.title(\"Iris Dataset\")\n",
    "#sns.plt.show()"
   ]
  },
  {
   "cell_type": "markdown",
   "metadata": {},
   "source": [
    "#### Panda"
   ]
  },
  {
   "cell_type": "markdown",
   "metadata": {},
   "source": [
    "We can also use the Panda Library when using the box and whisker plot to demostrate our data. Lets generate random tips that you would recive from working in a restaurant in a week. Then you will plot this using the box and whisker plot."
   ]
  },
  {
   "cell_type": "code",
   "execution_count": 34,
   "metadata": {},
   "outputs": [
    {
     "data": {
      "text/html": [
       "<div>\n",
       "<style>\n",
       "    .dataframe thead tr:only-child th {\n",
       "        text-align: right;\n",
       "    }\n",
       "\n",
       "    .dataframe thead th {\n",
       "        text-align: left;\n",
       "    }\n",
       "\n",
       "    .dataframe tbody tr th {\n",
       "        vertical-align: top;\n",
       "    }\n",
       "</style>\n",
       "<table border=\"1\" class=\"dataframe\">\n",
       "  <thead>\n",
       "    <tr style=\"text-align: right;\">\n",
       "      <th></th>\n",
       "      <th>Mon</th>\n",
       "      <th>Tues</th>\n",
       "      <th>Wedn</th>\n",
       "      <th>Thurs</th>\n",
       "      <th>Fri</th>\n",
       "      <th>Sat</th>\n",
       "      <th>Sun</th>\n",
       "    </tr>\n",
       "  </thead>\n",
       "  <tbody>\n",
       "    <tr>\n",
       "      <th>0</th>\n",
       "      <td>89.29</td>\n",
       "      <td>11.48</td>\n",
       "      <td>66.94</td>\n",
       "      <td>97.84</td>\n",
       "      <td>76.09</td>\n",
       "      <td>93.59</td>\n",
       "      <td>82.30</td>\n",
       "    </tr>\n",
       "    <tr>\n",
       "      <th>1</th>\n",
       "      <td>16.50</td>\n",
       "      <td>9.14</td>\n",
       "      <td>8.99</td>\n",
       "      <td>50.23</td>\n",
       "      <td>13.03</td>\n",
       "      <td>41.45</td>\n",
       "      <td>12.62</td>\n",
       "    </tr>\n",
       "    <tr>\n",
       "      <th>2</th>\n",
       "      <td>79.66</td>\n",
       "      <td>18.32</td>\n",
       "      <td>33.54</td>\n",
       "      <td>36.94</td>\n",
       "      <td>23.60</td>\n",
       "      <td>69.96</td>\n",
       "      <td>34.51</td>\n",
       "    </tr>\n",
       "    <tr>\n",
       "      <th>3</th>\n",
       "      <td>92.83</td>\n",
       "      <td>11.59</td>\n",
       "      <td>67.69</td>\n",
       "      <td>45.21</td>\n",
       "      <td>38.96</td>\n",
       "      <td>51.67</td>\n",
       "      <td>47.33</td>\n",
       "    </tr>\n",
       "    <tr>\n",
       "      <th>4</th>\n",
       "      <td>52.95</td>\n",
       "      <td>15.39</td>\n",
       "      <td>77.13</td>\n",
       "      <td>90.59</td>\n",
       "      <td>90.22</td>\n",
       "      <td>9.51</td>\n",
       "      <td>37.08</td>\n",
       "    </tr>\n",
       "    <tr>\n",
       "      <th>5</th>\n",
       "      <td>21.83</td>\n",
       "      <td>97.44</td>\n",
       "      <td>10.92</td>\n",
       "      <td>80.43</td>\n",
       "      <td>10.05</td>\n",
       "      <td>23.35</td>\n",
       "      <td>30.87</td>\n",
       "    </tr>\n",
       "    <tr>\n",
       "      <th>6</th>\n",
       "      <td>26.80</td>\n",
       "      <td>38.10</td>\n",
       "      <td>10.51</td>\n",
       "      <td>72.75</td>\n",
       "      <td>91.51</td>\n",
       "      <td>7.46</td>\n",
       "      <td>79.84</td>\n",
       "    </tr>\n",
       "    <tr>\n",
       "      <th>7</th>\n",
       "      <td>95.51</td>\n",
       "      <td>40.49</td>\n",
       "      <td>70.41</td>\n",
       "      <td>92.18</td>\n",
       "      <td>77.35</td>\n",
       "      <td>10.34</td>\n",
       "      <td>31.25</td>\n",
       "    </tr>\n",
       "    <tr>\n",
       "      <th>8</th>\n",
       "      <td>57.33</td>\n",
       "      <td>99.50</td>\n",
       "      <td>68.98</td>\n",
       "      <td>90.36</td>\n",
       "      <td>35.43</td>\n",
       "      <td>8.31</td>\n",
       "      <td>94.09</td>\n",
       "    </tr>\n",
       "    <tr>\n",
       "      <th>9</th>\n",
       "      <td>53.38</td>\n",
       "      <td>14.55</td>\n",
       "      <td>8.23</td>\n",
       "      <td>66.96</td>\n",
       "      <td>32.89</td>\n",
       "      <td>53.15</td>\n",
       "      <td>24.18</td>\n",
       "    </tr>\n",
       "    <tr>\n",
       "      <th>10</th>\n",
       "      <td>90.50</td>\n",
       "      <td>33.78</td>\n",
       "      <td>95.91</td>\n",
       "      <td>80.32</td>\n",
       "      <td>19.79</td>\n",
       "      <td>79.15</td>\n",
       "      <td>50.03</td>\n",
       "    </tr>\n",
       "    <tr>\n",
       "      <th>11</th>\n",
       "      <td>40.12</td>\n",
       "      <td>17.44</td>\n",
       "      <td>97.80</td>\n",
       "      <td>26.45</td>\n",
       "      <td>26.83</td>\n",
       "      <td>66.60</td>\n",
       "      <td>44.50</td>\n",
       "    </tr>\n",
       "    <tr>\n",
       "      <th>12</th>\n",
       "      <td>36.14</td>\n",
       "      <td>68.07</td>\n",
       "      <td>66.99</td>\n",
       "      <td>41.93</td>\n",
       "      <td>69.07</td>\n",
       "      <td>34.21</td>\n",
       "      <td>83.81</td>\n",
       "    </tr>\n",
       "    <tr>\n",
       "      <th>13</th>\n",
       "      <td>69.60</td>\n",
       "      <td>90.24</td>\n",
       "      <td>91.11</td>\n",
       "      <td>29.83</td>\n",
       "      <td>54.44</td>\n",
       "      <td>11.16</td>\n",
       "      <td>68.45</td>\n",
       "    </tr>\n",
       "    <tr>\n",
       "      <th>14</th>\n",
       "      <td>22.34</td>\n",
       "      <td>4.72</td>\n",
       "      <td>44.68</td>\n",
       "      <td>55.89</td>\n",
       "      <td>21.02</td>\n",
       "      <td>5.35</td>\n",
       "      <td>60.97</td>\n",
       "    </tr>\n",
       "    <tr>\n",
       "      <th>15</th>\n",
       "      <td>16.15</td>\n",
       "      <td>64.81</td>\n",
       "      <td>52.13</td>\n",
       "      <td>18.16</td>\n",
       "      <td>48.69</td>\n",
       "      <td>34.28</td>\n",
       "      <td>5.47</td>\n",
       "    </tr>\n",
       "    <tr>\n",
       "      <th>16</th>\n",
       "      <td>80.07</td>\n",
       "      <td>8.01</td>\n",
       "      <td>87.21</td>\n",
       "      <td>94.88</td>\n",
       "      <td>9.61</td>\n",
       "      <td>15.88</td>\n",
       "      <td>70.36</td>\n",
       "    </tr>\n",
       "    <tr>\n",
       "      <th>17</th>\n",
       "      <td>61.62</td>\n",
       "      <td>33.50</td>\n",
       "      <td>52.71</td>\n",
       "      <td>34.10</td>\n",
       "      <td>51.09</td>\n",
       "      <td>83.55</td>\n",
       "      <td>11.93</td>\n",
       "    </tr>\n",
       "    <tr>\n",
       "      <th>18</th>\n",
       "      <td>54.58</td>\n",
       "      <td>89.17</td>\n",
       "      <td>45.36</td>\n",
       "      <td>12.53</td>\n",
       "      <td>14.41</td>\n",
       "      <td>27.18</td>\n",
       "      <td>68.53</td>\n",
       "    </tr>\n",
       "    <tr>\n",
       "      <th>19</th>\n",
       "      <td>12.53</td>\n",
       "      <td>63.94</td>\n",
       "      <td>38.82</td>\n",
       "      <td>43.23</td>\n",
       "      <td>48.33</td>\n",
       "      <td>96.44</td>\n",
       "      <td>98.47</td>\n",
       "    </tr>\n",
       "  </tbody>\n",
       "</table>\n",
       "</div>"
      ],
      "text/plain": [
       "      Mon   Tues   Wedn  Thurs    Fri    Sat    Sun\n",
       "0   89.29  11.48  66.94  97.84  76.09  93.59  82.30\n",
       "1   16.50   9.14   8.99  50.23  13.03  41.45  12.62\n",
       "2   79.66  18.32  33.54  36.94  23.60  69.96  34.51\n",
       "3   92.83  11.59  67.69  45.21  38.96  51.67  47.33\n",
       "4   52.95  15.39  77.13  90.59  90.22   9.51  37.08\n",
       "5   21.83  97.44  10.92  80.43  10.05  23.35  30.87\n",
       "6   26.80  38.10  10.51  72.75  91.51   7.46  79.84\n",
       "7   95.51  40.49  70.41  92.18  77.35  10.34  31.25\n",
       "8   57.33  99.50  68.98  90.36  35.43   8.31  94.09\n",
       "9   53.38  14.55   8.23  66.96  32.89  53.15  24.18\n",
       "10  90.50  33.78  95.91  80.32  19.79  79.15  50.03\n",
       "11  40.12  17.44  97.80  26.45  26.83  66.60  44.50\n",
       "12  36.14  68.07  66.99  41.93  69.07  34.21  83.81\n",
       "13  69.60  90.24  91.11  29.83  54.44  11.16  68.45\n",
       "14  22.34   4.72  44.68  55.89  21.02   5.35  60.97\n",
       "15  16.15  64.81  52.13  18.16  48.69  34.28   5.47\n",
       "16  80.07   8.01  87.21  94.88   9.61  15.88  70.36\n",
       "17  61.62  33.50  52.71  34.10  51.09  83.55  11.93\n",
       "18  54.58  89.17  45.36  12.53  14.41  27.18  68.53\n",
       "19  12.53  63.94  38.82  43.23  48.33  96.44  98.47"
      ]
     },
     "execution_count": 34,
     "metadata": {},
     "output_type": "execute_result"
    }
   ],
   "source": [
    "# Create a random generated dataset using numpy and pandas library\n",
    "import numpy as np  # Import numpy library\n",
    "import pandas as pd # Import pandas library\n",
    "data = np.round(pd.DataFrame(np.random.rand(20, 7) * 100 , columns=['Mon', 'Tues', 'Wedn', 'Thurs', 'Fri', 'Sat', 'Sun']) ,decimals=2)\n",
    "data # show dataset created"
   ]
  },
  {
   "cell_type": "code",
   "execution_count": 22,
   "metadata": {},
   "outputs": [
    {
     "name": "stdout",
     "output_type": "stream",
     "text": [
      "Mean of Each Day\n"
     ]
    },
    {
     "data": {
      "text/plain": [
       "Mon      51.7490\n",
       "Tues     58.1720\n",
       "Wedn     49.7410\n",
       "Thurs    59.0290\n",
       "Fri      61.3890\n",
       "Sat      52.6395\n",
       "Sun      47.0745\n",
       "dtype: float64"
      ]
     },
     "execution_count": 22,
     "metadata": {},
     "output_type": "execute_result"
    }
   ],
   "source": [
    "# Mean of each day\n",
    "print(\"Mean of Each Day\")\n",
    "data.mean()"
   ]
  },
  {
   "cell_type": "code",
   "execution_count": 14,
   "metadata": {
    "scrolled": true
   },
   "outputs": [
    {
     "data": {
      "text/plain": [
       "Text(0,0.5,'Tips')"
      ]
     },
     "execution_count": 14,
     "metadata": {},
     "output_type": "execute_result"
    },
    {
     "data": {
      "image/png": "[encoded data removed]",
      "text/plain": [
       "<matplotlib.figure.Figure at 0x2624b4cb978>"
      ]
     },
     "metadata": {},
     "output_type": "display_data"
    }
   ],
   "source": [
    "import matplotlib.pyplot as plt\n",
    "data.plot.box()\n",
    "plt.title(\"Group Boxplot\")\n",
    "plt.xlabel(\"Days of the Week\")\n",
    "plt.ylabel(\"Tips\")\n"
   ]
  },
  {
   "cell_type": "markdown",
   "metadata": {},
   "source": [
    "As we can see from the above data, Friday is the best day of the week to receive tips as the green line in the box and whisker plot has the highest mean. Thursday is the most compacted showing that the least bad tips and least best tips on this day. While Saturday has the biggest vareity of tip between Q1 and Q4."
   ]
  },
  {
   "cell_type": "markdown",
   "metadata": {},
   "source": [
    "#### Horizontal Boxplot"
   ]
  },
  {
   "cell_type": "markdown",
   "metadata": {},
   "source": [
    "We can also create boxplots horizontal boxplots also as can be seen below."
   ]
  },
  {
   "cell_type": "code",
   "execution_count": 40,
   "metadata": {},
   "outputs": [
    {
     "data": {
      "text/plain": [
       "{'boxes': [<matplotlib.lines.Line2D at 0x2992947f550>,\n",
       "  <matplotlib.lines.Line2D at 0x2992948f240>,\n",
       "  <matplotlib.lines.Line2D at 0x299294a1160>,\n",
       "  <matplotlib.lines.Line2D at 0x299294b1080>,\n",
       "  <matplotlib.lines.Line2D at 0x299294b8f60>],\n",
       " 'caps': [<matplotlib.lines.Line2D at 0x299294880b8>,\n",
       "  <matplotlib.lines.Line2D at 0x29929488518>,\n",
       "  <matplotlib.lines.Line2D at 0x2992948ff98>,\n",
       "  <matplotlib.lines.Line2D at 0x29929498438>,\n",
       "  <matplotlib.lines.Line2D at 0x299294a1eb8>,\n",
       "  <matplotlib.lines.Line2D at 0x299294aa358>,\n",
       "  <matplotlib.lines.Line2D at 0x299294b1dd8>,\n",
       "  <matplotlib.lines.Line2D at 0x299294b8278>,\n",
       "  <matplotlib.lines.Line2D at 0x299294c4cf8>,\n",
       "  <matplotlib.lines.Line2D at 0x299294cb198>],\n",
       " 'fliers': [<matplotlib.lines.Line2D at 0x29929488dd8>,\n",
       "  <matplotlib.lines.Line2D at 0x29929498cf8>,\n",
       "  <matplotlib.lines.Line2D at 0x299294aac18>,\n",
       "  <matplotlib.lines.Line2D at 0x299294b8b38>,\n",
       "  <matplotlib.lines.Line2D at 0x299294cba58>],\n",
       " 'means': [],\n",
       " 'medians': [<matplotlib.lines.Line2D at 0x29929488978>,\n",
       "  <matplotlib.lines.Line2D at 0x29929498898>,\n",
       "  <matplotlib.lines.Line2D at 0x299294aa7b8>,\n",
       "  <matplotlib.lines.Line2D at 0x299294b86d8>,\n",
       "  <matplotlib.lines.Line2D at 0x299294cb5f8>],\n",
       " 'whiskers': [<matplotlib.lines.Line2D at 0x2992947f6d8>,\n",
       "  <matplotlib.lines.Line2D at 0x2992947fc18>,\n",
       "  <matplotlib.lines.Line2D at 0x2992948f6d8>,\n",
       "  <matplotlib.lines.Line2D at 0x2992948fb38>,\n",
       "  <matplotlib.lines.Line2D at 0x299294a15f8>,\n",
       "  <matplotlib.lines.Line2D at 0x299294a1a58>,\n",
       "  <matplotlib.lines.Line2D at 0x299294b1518>,\n",
       "  <matplotlib.lines.Line2D at 0x299294b1978>,\n",
       "  <matplotlib.lines.Line2D at 0x299294c4438>,\n",
       "  <matplotlib.lines.Line2D at 0x299294c4898>]}"
      ]
     },
     "execution_count": 40,
     "metadata": {},
     "output_type": "execute_result"
    },
    {
     "data": {
      "image/png": "[encoded data removed]",
      "text/plain": [
       "<matplotlib.figure.Figure at 0x299293ae3c8>"
      ]
     },
     "metadata": {},
     "output_type": "display_data"
    }
   ],
   "source": [
    "# Adopted from https://matplotlib.org/gallery/statistics/boxplot_demo.html\n",
    "# Create an Horizontal Boxplot using random generated numbers\n",
    "N = 10 # Let n = 10\n",
    "data_set1 = np.random.normal(1, 1, N)        # Generate random normal numbers with mean 1 & std 1\n",
    "data_set2 = np.random.lognormal(1, 1, N)     # Generate random lognormal numbers with mean 1 & std 1\n",
    "data_set3 = np.random.exponential(1, N)      # Generate random normal numbers from scale parameter 1\n",
    "data_set4 = np.random.gumbel(6, 4, N)        # Generate random normal numbers with mode 1 & scale 1\n",
    "data_set5 = np.random.triangular(2, 9, 11, N) # Generate random normal numbers with left 2, mode 9 & right 11\n",
    " \n",
    "d = [data_set1, data_set2, data_set3, data_set4, data_set5] \n",
    "\n",
    "mpl_fig = plt.figure()\n",
    "a = mpl_fig.add_subplot(111)\n",
    "\n",
    "a.boxplot(d) # show boxplot"
   ]
  },
  {
   "cell_type": "code",
   "execution_count": 9,
   "metadata": {},
   "outputs": [
    {
     "data": {
      "image/png": "[encoded data removed]",
      "text/plain": [
       "<matplotlib.figure.Figure at 0x2624b318a90>"
      ]
     },
     "metadata": {},
     "output_type": "display_data"
    }
   ],
   "source": [
    "# Adopted from http://www.datasciencemadesimple.com/box-plot-in-python/\n",
    "# Create for random variables using ramdom.rand function from numpy\n",
    "value1 = np.random.rand(50) * 100\n",
    "value2 = np.random.randn(10) * 10\n",
    "value3 = np.random.rand(10) * 100 \n",
    "value4 = np.random.rand(10) * -100\n",
    "\n",
    "box_plot_data=[value1,value2,value3,value4] # Plot random numbers generated\n",
    "box=plt.boxplot(box_plot_data,vert=0,patch_artist=True,labels=['course1','course2','course3','course4'],\n",
    "            ) # Vert = 0 creates horizontal boxplot\n",
    " \n",
    "colors = ['cyan', 'lightblue', 'lightgreen', 'tan'] # Colours\n",
    "for patch, color in zip(box['boxes'], colors):\n",
    "    patch.set_facecolor(color)\n",
    "plt.title(\"Horizontal Boxplot\") \n",
    "plt.show()\n"
   ]
  },
  {
   "cell_type": "markdown",
   "metadata": {},
   "source": [
    "## Terminology"
   ]
  },
  {
   "cell_type": "markdown",
   "metadata": {
    "collapsed": true
   },
   "source": [
    "#### Quartile"
   ]
  },
  {
   "cell_type": "markdown",
   "metadata": {},
   "source": [
    "Quartiles are the way in which we divide your data into four quarters in statistics. The first quartile (Q1) is the lowest 25%. The second quartile (Q2) is above the lowest 25% and the median. The third quartile is the median up to the 75% and finally the fourth quartile (Q4) is the highest 25%.\n",
    "\n",
    "Let's look at an example of quartiles but before we divide the data we must put the data in ascending order So let's divide this data into quartiles : 4, 5, 16, 20, 54, 50, 36, 40, 13, 25, 31, 1. So we must put this data in order as follows: 1, 4, 5, 13, 16, 20, 25, 31, 36, 40, 50, 54. We have 12 numbers so each quartile will have 3 numbers as below; 1, 4, 5| 13, 16, 20| 25, 31, 36| 40, 50, 54|\n",
    "\n",
    "If you have an uneven set of numbers, it’s OK to slice a number down the middle. So you may want to use an online interquartile range calculator to figure those quartiles out for you. The calculator gives you the 25th Percentile, which is the end of the first quartile, the 50th Percentile which is the end of the second quartile (or the median) and the 75th Percentile, which is the end of the third quartile. For 10, 13, 17, 19 and 21 the results are:\n",
    "25th Percentile: 11.5\n",
    "50th Percentile: 17\n",
    "75th Percentile: 20\n",
    "Interquartile Range: 8.5. [[Stat]](https://www.statisticshowto.datasciencecentral.com/what-are-quartiles/)\n",
    "\n"
   ]
  },
  {
   "cell_type": "markdown",
   "metadata": {},
   "source": [
    "#### Percentile"
   ]
  },
  {
   "cell_type": "markdown",
   "metadata": {},
   "source": [
    "A  percentile  is a comparison score between a particular score and the scores of the rest of a group. It shows the percentage of scores that a particular score surpassed. For example, if you score 75 points on a test, and are ranked in the 85 th  percentile, it means that the score 75 is higher than 85% of the scores. The percentile rank is calculated using the formula:\n",
    "R={P/100}(N) where P is the desired percentile and N is the number of data points. [[Varsity]](https://www.varsitytutors.com/hotmath/hotmath_help/topics/percentile)\n",
    "\n",
    "Again let's look at a simple example of percentiles. If the scores of a set of students in a math test are 20 , 30 , 15 and 75 what is the percentile rank of the score 30? Lets Arrange the numbers in ascending order and give the rank ranging from 1 to the lowest to 4 to the highest. Using the above formula: 3 = {p/100}(4), 3 = {p/25}, p = 75. Therefore the score 30 has a percentile of 75 [[Varsity]](https://www.varsitytutors.com/hotmath/hotmath_help/topics/percentile)\n",
    "\n",
    "Another defintion is percentile ranking. For example, if you score in the 25th percentile, then 25% of test takers are below your score. The “25” is called the percentile rank. [[Stat]](https://www.statisticshowto.datasciencecentral.com/probability-and-statistics/percentiles-rank-range/)\n",
    "\n",
    "A percentile range is the difference between two specified percentiles. these could theoretically be any two percentiles, but the 10-90 percentile range is the most common. To find the 10-90 percentile range:\n",
    "1. Calculate the 10th percentile using the above steps.\n",
    "2. Calculate the 90th percentile using the above steps.\n",
    "3. Subtract Step 1 (the 10th percentile) from Step 2 (the 90th percentile). [[Stat]](https://www.statisticshowto.datasciencecentral.com/probability-and-statistics/percentiles-rank-range/)"
   ]
  },
  {
   "cell_type": "markdown",
   "metadata": {},
   "source": [
    "#### Deciles"
   ]
  },
  {
   "cell_type": "markdown",
   "metadata": {
    "collapsed": true
   },
   "source": [
    "Decile is where a data set is divided evenly between 10 parts. The higher your place in the decile rankings, the higher your overall ranking. For example, if you were in the 99th percentile for a particular test, that would put you in the decile ranking of 10. A person who scored very low (say, the 5th percentile) would find themselves in a decile rank of 1. [[Decile]](https://www.statisticshowto.datasciencecentral.com/decile/)"
   ]
  },
  {
   "cell_type": "markdown",
   "metadata": {},
   "source": [
    "## Comparison"
   ]
  },
  {
   "cell_type": "markdown",
   "metadata": {},
   "source": [
    "#### Box plot vs Histogram"
   ]
  },
  {
   "cell_type": "markdown",
   "metadata": {},
   "source": [
    "Although Box and Whisker plots and Histograms falls into the same category chart aid, both charts effectively represent different data sets; however, in certain situations, one chart may be superior to the other in achieving the goal of identifying variances among data. The type of chart aid chosen depends on the type of data collected, rough analysis of data trends, and project goals. A boxplot is more useful than a histogram when there is moderate variation among the observed frequencies, which causes the histogram to look ragged and non-symmetrical due to the way the data is grouped. This may lead one to assume the data is slightly skewed. However, when a box plot is used to graph the same data points, the chart indicates a perfect normal distribution [[Bright]](https://www.brighthubpm.com/six-sigma/58254-box-plots-vs-histograms-in-project-management/)"
   ]
  },
  {
   "cell_type": "markdown",
   "metadata": {},
   "source": [
    "#### Box plot vs Bar Charts"
   ]
  },
  {
   "cell_type": "markdown",
   "metadata": {},
   "source": [
    "What type of data will you represent? How do you want to represent your data? You need to answer such questions before choosing between the two.\n",
    "\n",
    "Grouped bar charts are useful for showing the budgets for two households, for instance. One common use of bar charts is to show the proportion of one value against another.\n",
    "\n",
    "On the other hand, box plots are useful for plotting various data sets from independent sources. An example includes test scores between different universities, change in data (before and after) due to a process, or data from different machines manufacturing the same product. Box plots are good ways to represent the distribution of your data, especially if you are aiming to show other values besides the mean. [[Enago]](https://www.enago.com/academy/report-research-data-using-box-plots-and-bar-charts/)"
   ]
  },
  {
   "cell_type": "markdown",
   "metadata": {},
   "source": [
    "#### Box plot vs Violin plot"
   ]
  },
  {
   "cell_type": "markdown",
   "metadata": {},
   "source": [
    "The violin plot can show more information than box plot. The violin plot can’t show a better curve with small samples. In Hintze’s paper, he thought a smooth curve with at least 30 observations. But the box plot may stand for a smaller observations. Also the bandwidth need to be chosed carefully.\n",
    "\n",
    "The modification box plot could show the number of observations in the groups using the var width while the violin plot couldn’t. When we make some comparison between different groups, the violin plot will hide this information.\n",
    "\n",
    "Another problem is the notch in the box plot to compare the median. In the violin plot, we get a better understanding of distribution of violin plot but less with comparisone with ‘strong evidence’(Chambers et al., 1983, p. 62). [[Violin]](http://yufree.github.io/blog/2013/08/15/boxplot-vs-violinplot.html)"
   ]
  },
  {
   "cell_type": "markdown",
   "metadata": {},
   "source": [
    "#### Box plot vs Dot plot"
   ]
  },
  {
   "cell_type": "markdown",
   "metadata": {},
   "source": [
    "A boxplot is a method of visually displaying a distribution of data values by using the median, both quartiles, and extremes of data set while a dot plot is a method of visually displaying a distribution of data values where each value is shown as a dot above a number line.\n",
    "\n",
    "Box plots are useful for identifying outliners and comparing distribution while dot plots are useful for showing relative problems. [[Prezi]](https://prezi.com/c-nf7xwhgsko/box-plots-vs-dot-plots/)"
   ]
  },
  {
   "cell_type": "markdown",
   "metadata": {},
   "source": [
    "## Summary"
   ]
  },
  {
   "cell_type": "markdown",
   "metadata": {},
   "source": [
    "Today, over 40 years later, the boxplot has become one of the most frequently used statistical graphics,\n",
    "and is one of the few plot types invented in the 20th century that has found widespread adoption. Due to\n",
    "their elegance and practicality, boxplots have spawned a wealth of variations and enhancement. [[VIta]](http://vita.had.co.nz/papers/boxplots.pdf)"
   ]
  },
  {
   "cell_type": "markdown",
   "metadata": {},
   "source": [
    "## References"
   ]
  },
  {
   "cell_type": "markdown",
   "metadata": {},
   "source": [
    "[1] https://towardsdatascience.com/understanding-boxplots-5e2df7bcbd51"
   ]
  },
  {
   "cell_type": "markdown",
   "metadata": {},
   "source": [
    "[2] http://vita.had.co.nz/papers/boxplots.pdf"
   ]
  },
  {
   "cell_type": "markdown",
   "metadata": {
    "collapsed": true
   },
   "source": [
    "[3] https://www.nytimes.com/2000/07/28/us/john-tukey-85-statistician-coined-the-word-software.html?pagewanted=print"
   ]
  },
  {
   "cell_type": "markdown",
   "metadata": {},
   "source": [
    "[4] https://www150.statcan.gc.ca/n1/edu/power-pouvoir/ch12/5214889-eng.htm"
   ]
  },
  {
   "cell_type": "markdown",
   "metadata": {},
   "source": [
    "[5] https://sciencing.com/advantages-disadvantages-box-plot-12025269.html"
   ]
  },
  {
   "cell_type": "markdown",
   "metadata": {},
   "source": [
    "[6] https://python-graph-gallery.com/30-basic-boxplot-with-seaborn/"
   ]
  },
  {
   "cell_type": "markdown",
   "metadata": {},
   "source": [
    "[7] https://sites.google.com/site/davidsstatistics/home/notched-box-plots"
   ]
  },
  {
   "cell_type": "markdown",
   "metadata": {},
   "source": [
    "[8] http://www.datasciencemadesimple.com/box-plot-in-python/"
   ]
  },
  {
   "cell_type": "markdown",
   "metadata": {
    "collapsed": true
   },
   "source": [
    "[9] https://www.statisticshowto.datasciencecentral.com/what-are-quartiles/"
   ]
  },
  {
   "cell_type": "markdown",
   "metadata": {},
   "source": [
    "[10] https://www.varsitytutors.com/hotmath/hotmath_help/topics/percentile"
   ]
  },
  {
   "cell_type": "markdown",
   "metadata": {},
   "source": [
    "[11] https://www.statisticshowto.datasciencecentral.com/decile/"
   ]
  },
  {
   "cell_type": "markdown",
   "metadata": {},
   "source": [
    "[12] https://www.statisticshowto.datasciencecentral.com/probability-and-statistics/percentiles-rank-range/"
   ]
  },
  {
   "cell_type": "markdown",
   "metadata": {},
   "source": [
    "[13] https://www.brighthubpm.com/six-sigma/58254-box-plots-vs-histograms-in-project-management/"
   ]
  },
  {
   "cell_type": "markdown",
   "metadata": {},
   "source": [
    "[14] https://www.enago.com/academy/report-research-data-using-box-plots-and-bar-charts/"
   ]
  },
  {
   "cell_type": "markdown",
   "metadata": {},
   "source": [
    "[15] http://yufree.github.io/blog/2013/08/15/boxplot-vs-violinplot.html"
   ]
  },
  {
   "cell_type": "markdown",
   "metadata": {},
   "source": [
    "[16] https://prezi.com/c-nf7xwhgsko/box-plots-vs-dot-plots/"
   ]
  }
 ],
 "metadata": {
  "kernelspec": {
   "display_name": "Python 3",
   "language": "python",
   "name": "python3"
  },
  "language_info": {
   "codemirror_mode": {
    "name": "ipython",
    "version": 3
   },
   "file_extension": ".py",
   "mimetype": "text/x-python",
   "name": "python",
   "nbconvert_exporter": "python",
   "pygments_lexer": "ipython3",
   "version": "3.6.3"
  }
 },
 "nbformat": 4,
 "nbformat_minor": 2
}
